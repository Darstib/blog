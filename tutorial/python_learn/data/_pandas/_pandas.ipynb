{
 "cells": [
  {
   "cell_type": "markdown",
   "metadata": {},
   "source": [
    "# pandas"
   ]
  },
  {
   "cell_type": "code",
   "execution_count": 1,
   "metadata": {},
   "outputs": [],
   "source": [
    "import pandas as pd\n",
    "import numpy as np"
   ]
  },
  {
   "cell_type": "markdown",
   "metadata": {},
   "source": [
    "\n",
    "## 数据结构\n",
    "\n",
    "pandas 在 NumPy 的 ndarray 对象基础上封装了三个基本数据结构 Series、 DataFrame 和 Index。 Pandas 在这些基本数据结构上实现了许多功能和方法。\n",
    "\n",
    "### Series\n",
    "\n",
    "Series 对象是一个带索引标签（Labels）的一维数组，打印查看很像只有一列的表，可以看做向量。\n",
    "\n",
    "```python\n",
    "pd.Series(data=None, index=None, dtype: 'Dtype | None' = None, name=None, copy: 'bool | None' = None, fastpath: 'bool | lib.NoDefault' = <no_default>) -> 'None'\n",
    "```"
   ]
  },
  {
   "cell_type": "code",
   "execution_count": null,
   "metadata": {},
   "outputs": [
    {
     "data": {
      "text/plain": [
       "a    1.0\n",
       "b    2.0\n",
       "1    NaN\n",
       "dtype: float64"
      ]
     },
     "execution_count": 38,
     "metadata": {},
     "output_type": "execute_result"
    }
   ],
   "source": [
    "# Series 其实就是一个特殊的字典，但是支持切片等操作\n",
    "# data 可以为标量（按照索引长度扩展），列表（索引默认为range(len(data))），字典（可以显示索引筛选需要的数据，原本不存在的数据 value 为 NaN）\n",
    "# 如果索引和值数量长度不匹配，将会报错\n",
    "pd.Series(data=1, index=range(5))\n",
    "pd.Series(data=range(5), index=range(1, 6))\n",
    "pd.Series(data=dict(a=1, b=2, c=3), index=['a', 'b', 1]) # 字典创建"
   ]
  },
  {
   "cell_type": "code",
   "execution_count": null,
   "metadata": {},
   "outputs": [
    {
     "data": {
      "text/plain": [
       "(RangeIndex(start=1, stop=4, step=1),\n",
       " array(['a', 'b', 'c'], dtype=object),\n",
       " dtype('O'),\n",
       " (3,),\n",
       " 1,\n",
       " 3,\n",
       " False,\n",
       " 'a')"
      ]
     },
     "execution_count": 17,
     "metadata": {},
     "output_type": "execute_result"
    }
   ],
   "source": [
    "# 属性\n",
    "series = pd.Series(['a', 'b', 'c'], index=range(1, 4))\n",
    "series.index, series.values, series.dtype, series.shape, series.ndim, series.size, series.empty, series[1] # 想要更改时对应赋值就好"
   ]
  },
  {
   "cell_type": "markdown",
   "metadata": {},
   "source": [
    "### DataFrame\n",
    "\n",
    "将 Series 类比为带索引的一维数组（或者含有一列数据的带有行标签的单列表）， 那么 DataFrame 就可以看作是一种既有行索引，又有列名的二维数组（或者含有行标签和列标签的表，每一列都是一个 Series 对象）。\n",
    "\n",
    "将 Series 类比为一个字典，DataFrame 就可以看作是一个以 Series 为 values 的字典， 而字典的键就是 DataFrame 的列名。\n",
    "\n",
    "```python\n",
    "DataFrame(data=None, index: 'Axes | None' = None, columns: 'Axes | None' = None, dtype: 'Dtype | None' = None, copy: 'bool | None' = None) -> 'None'\n",
    "```"
   ]
  },
  {
   "cell_type": "code",
   "execution_count": 86,
   "metadata": {},
   "outputs": [
    {
     "data": {
      "text/html": [
       "<div>\n",
       "<style scoped>\n",
       "    .dataframe tbody tr th:only-of-type {\n",
       "        vertical-align: middle;\n",
       "    }\n",
       "\n",
       "    .dataframe tbody tr th {\n",
       "        vertical-align: top;\n",
       "    }\n",
       "\n",
       "    .dataframe thead th {\n",
       "        text-align: right;\n",
       "    }\n",
       "</style>\n",
       "<table border=\"1\" class=\"dataframe\">\n",
       "  <thead>\n",
       "    <tr style=\"text-align: right;\">\n",
       "      <th></th>\n",
       "      <th>id</th>\n",
       "      <th>age</th>\n",
       "    </tr>\n",
       "  </thead>\n",
       "  <tbody>\n",
       "    <tr>\n",
       "      <th>John</th>\n",
       "      <td>100.0</td>\n",
       "      <td>20.0</td>\n",
       "    </tr>\n",
       "    <tr>\n",
       "      <th>Tom</th>\n",
       "      <td>101.0</td>\n",
       "      <td>21.0</td>\n",
       "    </tr>\n",
       "    <tr>\n",
       "      <th>Bill</th>\n",
       "      <td>102.0</td>\n",
       "      <td>NaN</td>\n",
       "    </tr>\n",
       "    <tr>\n",
       "      <th>BilL</th>\n",
       "      <td>NaN</td>\n",
       "      <td>19.0</td>\n",
       "    </tr>\n",
       "  </tbody>\n",
       "</table>\n",
       "</div>"
      ],
      "text/plain": [
       "         id   age\n",
       "John  100.0  20.0\n",
       "Tom   101.0  21.0\n",
       "Bill  102.0   NaN\n",
       "BilL    NaN  19.0"
      ]
     },
     "execution_count": 86,
     "metadata": {},
     "output_type": "execute_result"
    }
   ],
   "source": [
    "# DataFrame 在常用的传参上就是多了一个 columns 参数，作为列名\n",
    "# data 可以为标量（按照索引长度扩展），二维数组，以 dict/Series 为值的列表/字典（可以显示索引筛选需要的数据，原本不存在的数据 value 为 NaN）\n",
    "id_dict = {'John': 100,'Tom' : 101,'Bill': 102}\n",
    "age_dict = {'John': 20,'Tom' : 21,'BilL': 19}\n",
    "pd.DataFrame(data=1, index=id_dict.keys(), columns=data.keys())\n",
    "pd.DataFrame(data=np.ones(3, dtype=[('A', 'i8'), ('B', 'f8')]))\n",
    "pd.DataFrame(data=np.arange(6).reshape(3, 2), columns=['id', 'age'])\n",
    "pd.DataFrame(data=[age_dict, id_dict])\n",
    "pd.DataFrame(data=dict(id=id_dict, age=age_dict), columns=data.keys())"
   ]
  },
  {
   "cell_type": "code",
   "execution_count": 87,
   "metadata": {},
   "outputs": [
    {
     "data": {
      "text/plain": [
       "(Index(['John', 'Tom', 'Bill', 'BilL'], dtype='object'),\n",
       " Index(['id', 'age'], dtype='object'),\n",
       " array([[100.,  20.],\n",
       "        [101.,  21.],\n",
       "        [102.,  nan],\n",
       "        [ nan,  19.]]),\n",
       " (4, 2))"
      ]
     },
     "execution_count": 87,
     "metadata": {},
     "output_type": "execute_result"
    }
   ],
   "source": [
    "## 属性\n",
    "df = pd.DataFrame(data=dict(id=id_dict, age=age_dict), columns=data.keys())\n",
    "df.index, df.columns, df.values, df.shape"
   ]
  },
  {
   "cell_type": "markdown",
   "metadata": {},
   "source": [
    "### Index\n",
    "\n",
    "pandas 中的 Index 对象可以看作一个 multi_set ，其中的值不可修改/删除，但是支持排序/交集/并集/差集等操作。\n",
    "\n",
    "## 数据加载\n",
    "\n",
    "## 缺失值处理"
   ]
  }
 ],
 "metadata": {
  "kernelspec": {
   "display_name": "data",
   "language": "python",
   "name": "python3"
  },
  "language_info": {
   "codemirror_mode": {
    "name": "ipython",
    "version": 3
   },
   "file_extension": ".py",
   "mimetype": "text/x-python",
   "name": "python",
   "nbconvert_exporter": "python",
   "pygments_lexer": "ipython3",
   "version": "3.9.18"
  }
 },
 "nbformat": 4,
 "nbformat_minor": 2
}
