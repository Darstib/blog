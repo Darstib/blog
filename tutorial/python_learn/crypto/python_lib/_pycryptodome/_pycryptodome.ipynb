{
 "cells": [
  {
   "cell_type": "markdown",
   "metadata": {},
   "source": [
    "# pycryptodome\n",
    "\n",
    "## Crypto.Cipher\n",
    "\n",
    "> https://pycryptodome.readthedocs.io/en/stable/src/cipher/cipher.html\n",
    "\n",
    "## Crypto.PublicKey\n",
    "\n",
    "> https://pycryptodome.readthedocs.io/en/stable/src/public_key/public_key.html\n",
    "\n",
    "### API principles"
   ]
  },
  {
   "cell_type": "code",
   "execution_count": null,
   "metadata": {},
   "outputs": [],
   "source": [
    "from Crypto.PublicKey import RSA\n",
    "# generate random key\n",
    "key = RSA.generate(2048)\n",
    "# get key from memory\n",
    "key = RSA.import_key(open('xxx.pem').read())\n",
    "# get private key and public key\n",
    "private_key = key.export_key()\n",
    "public_key = key.publickey().export_key()\n",
    "# construct key\n",
    "key = RSA.construct((n, e, d)) # 注意是一个元组 rsa_components"
   ]
  },
  {
   "cell_type": "markdown",
   "metadata": {},
   "source": [
    "\n",
    "\n",
    "## Crypto.Util\n",
    "\n",
    "> https://pycryptodome.readthedocs.io/en/stable/src/util/util.html"
   ]
  }
 ],
 "metadata": {
  "kernelspec": {
   "display_name": "sage",
   "language": "python",
   "name": "python3"
  },
  "language_info": {
   "name": "python",
   "version": "3.11.10"
  }
 },
 "nbformat": 4,
 "nbformat_minor": 2
}
