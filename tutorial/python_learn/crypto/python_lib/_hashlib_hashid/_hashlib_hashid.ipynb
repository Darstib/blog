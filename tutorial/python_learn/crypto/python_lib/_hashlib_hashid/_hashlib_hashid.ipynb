{
 "cells": [
  {
   "cell_type": "markdown",
   "metadata": {},
   "source": [
    "# hashlib & hashid\n",
    "\n",
    "## hashlib\n",
    "\n",
    "该模块中文名译为“安全散列和消息摘要”，实现了许多不同 Secure Hash 和 message digest 算法的通用接口。包括FIPS安全散列算法SHA1，SHA224，SHA256，SHA384和SHA512（在FIPS 180-2中定义）以及RSA的MD5算法（在因特网 RFC 1321术语“安全散列”和“消息摘要”是可互换的。较旧的算法被称为消息摘要。现代术语是安全哈希。\n",
    "\n",
    "> [!NOTE]\n",
    ">\n",
    "> **哈希算法**是一种将任意大小的数据输入（称为消息）转换为固定大小的输出（称为哈希值或摘要）的算法。哈希值通常是一个短字符串，代表了输入数据的唯一性。常见的哈希算法包括：\n",
    ">\n",
    "> - **MD5**：产生128位（16字节）的哈希值，通常以32位十六进制数表示。虽然速度快，但已被证明存在安全漏洞，不建议用于安全敏感的应用。\n",
    "> - **SHA-1**：产生160位（20字节）的哈希值，已被广泛使用，但也存在安全问题。\n",
    "> - **SHA-256**：属于SHA-2系列，产生256位（32字节）的哈希值，安全性更高，广泛应用于区块链和数字签名等领域。\n",
    ">\n",
    "> **消息摘要**是通过哈希算法生成的固定长度的输出。它是输入数据的“指纹”，具有以下特性：\n",
    "> \n",
    "> 1. **唯一性**：不同的输入数据应该产生不同的哈希值（尽管在理论上可能存在哈希碰撞，即不同输入产生相同哈希值，但在实际应用中这种情况非常罕见）。\n",
    "> 2. **不可逆性**：从哈希值无法推导出原始输入数据。\n",
    "> 3. **敏感性**：输入数据的微小变化会导致哈希值的显著变化。\n",
    ">\n",
    "\n",
    "- 安装：`python 2.7` 之后无需安装\n",
    "- 使用：对于每种类型的 hash，都有一个构造函数方法 . 它们都返回一个具有相同的简单接口的哈希对象。例如：使用`sha1()`创建SHA1哈希对象。现在，你可以使用`update()`方法以类字节对象填充这个对象（通常为字节）。在连接数据的任何时候，你都可以使用`digest()`或`hexdigest()`方法来向它请求摘要。\n"
   ]
  },
  {
   "cell_type": "code",
   "execution_count": null,
   "metadata": {
    "vscode": {
     "languageId": "sage"
    }
   },
   "outputs": [
    {
     "data": {
      "text/plain": [
       "'347f7904d41fc08d7747c968a3629596'"
      ]
     },
     "execution_count": 9,
     "metadata": {},
     "output_type": "execute_result"
    }
   ],
   "source": [
    "import hashlib\n",
    "md5 = hashlib.md5() # 初始化一个md5对象\n",
    "plaintext = \"Darstib{f@k3_h@sh1ng_1s_n0t_s@f3}\"\n",
    "md5.hexdigest() # 'd41d8cd98f00b204e9800998ecf8427e'\n",
    "md5.update(plaintext.encode()) # 更新md5对象的内容\n",
    "md5.hexdigest() # '347f7904d41fc08d7747c968a3629596'"
   ]
  },
  {
   "cell_type": "code",
   "execution_count": null,
   "metadata": {
    "vscode": {
     "languageId": "sage"
    }
   },
   "outputs": [
    {
     "data": {
      "text/plain": [
       "'f8aeee485745186e960861bcc35784164c06f13fd300b372e255c9a48dfc3c61'"
      ]
     },
     "execution_count": 12,
     "metadata": {},
     "output_type": "execute_result"
    }
   ],
   "source": [
    "# 一步到位\n",
    "hashlib.md5(plaintext.encode()).hexdigest() # '347f7904d41fc08d7747c968a3629596'\n",
    "hashlib.sha256(plaintext.encode()).hexdigest() # 'f8aeee485745186e960861bcc35784164c06f13fd300b372e255c9a48dfc3c61'"
   ]
  },
  {
   "cell_type": "markdown",
   "metadata": {},
   "source": [
    "## hashid\n",
    "\n",
    "> https://github.com/psypanda/hashID\n",
    ">\n",
    "> 注意这和 hashids 不是一个东西\n",
    "\n",
    "- 安装指令：pip install hashids\n",
    "- 使用场景： 用于识别hash算法：给它一个hash值，它就能判断出这个值是哪种类型的hash值。\n",
    "\n",
    "### 使用\n",
    "\n",
    "具体在命令行中使用：\n",
    "\n",
    "```shell\n",
    "$ hashid -h\n",
    "usage: hashid.py [-h] [-e] [-m] [-j] [-o FILE] [--version] INPUT\n",
    "\n",
    "Identify the different types of hashes used to encrypt data\n",
    "\n",
    "positional arguments:\n",
    "  INPUT                    input to analyze (default: STDIN)\n",
    "\n",
    "options:\n",
    "  -e, --extended           list all possible hash algorithms\n",
    "                           including salted passwords\n",
    "  -m, --mode               show corresponding Hashcat mode in output\n",
    "  -j, --john               show corresponding JohnTheRipper format\n",
    "                           in output\n",
    "  -o FILE, --outfile FILE  write output to file\n",
    "  -h, --help               show this help message and exit\n",
    "  --version                show program's version number and exit\n",
    "\n",
    "License GPLv3+: GNU GPL version 3 or later\n",
    "<http://gnu.org/licenses/gpl.html>\n",
    "```\n",
    "\n",
    "### 示例\n",
    "\n",
    "```shell\n",
    "$ hashid -e f8aeee485745186e960861bcc35784164c06f13fd300b372e255c9a48dfc3c61\n",
    "Analyzing 'f8aeee485745186e960861bcc35784164c06f13fd300b372e255c9a48dfc3c61'\n",
    "[+] Snefru-256 \n",
    "[+] SHA-256 \n",
    "[+] RIPEMD-256 \n",
    "[+] Haval-256 \n",
    "[+] GOST R 34.11-94 \n",
    "[+] GOST CryptoPro S-Box \n",
    "[+] SHA3-256 \n",
    "[+] Skein-256 \n",
    "[+] Skein-512(256) \n",
    "[+] Ventrilo \n",
    "[+] sha256($pass.$salt) \n",
    "[+] sha256($salt.$pass) \n",
    "[+] sha256(unicode($pass).$salt) \n",
    "[+] sha256($salt.unicode($pass)) \n",
    "[+] HMAC-SHA256 (key = $pass) \n",
    "[+] HMAC-SHA256 (key = $salt) \n",
    "[+] Cisco Type 7 \n",
    "[+] BigCrypt \n",
    "```"
   ]
  },
  {
   "cell_type": "code",
   "execution_count": 1,
   "metadata": {
    "vscode": {
     "languageId": "sage"
    }
   },
   "outputs": [],
   "source": [
    "## massage deal\n",
    "# username *\n",
    "def username(username):\n",
    "    l = len(username)\n",
    "    if l <= 2:\n",
    "        return username[0] + \"*\"\n",
    "    else:\n",
    "        return username[0] + \"*\" * (l - 2) + username[-1]\n",
    "\n",
    "def idcard(idcard):\n",
    "    return \"*\" * 6 + idcard[6:10] + \"*\" * 8\n",
    "\n",
    "def phone_num(num):\n",
    "    return num[:3] + \"*\"*4 + num[7:]\n",
    "\n",
    "import hashlib\n",
    "# password md5\n",
    "def password(psword):\n",
    "    md5 = hashlib.md5() # 初始化一个md5对象\n",
    "    md5.update(psword.encode(\"utf-8\")) # 对字符串进行加密\n",
    "    return md5.hexdigest()\n",
    "\n",
    "# name sha-1\n",
    "def name(name):\n",
    "    sha1 = hashlib.sha1()\n",
    "    sha1.update(name.encode(\"utf-8\"))\n",
    "    return sha1.hexdigest()\n",
    "\n"
   ]
  }
 ],
 "metadata": {
  "kernelspec": {
   "display_name": "SageMath 10.3",
   "language": "sage",
   "name": "sagemath"
  },
  "language_info": {
   "codemirror_mode": {
    "name": "ipython",
    "version": 3
   },
   "file_extension": ".py",
   "mimetype": "text/x-python",
   "name": "python",
   "nbconvert_exporter": "python",
   "pygments_lexer": "ipython3",
   "version": "3.9.19"
  }
 },
 "nbformat": 4,
 "nbformat_minor": 2
}
