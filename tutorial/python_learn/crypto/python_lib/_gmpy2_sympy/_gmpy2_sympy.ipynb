{
 "cells": [
  {
   "cell_type": "markdown",
   "metadata": {},
   "source": [
    "# gmpy2 & sympy\n",
    "\n",
    "gmpy2/sympy 是一个 Python 库，用于进行任意精度整数和有理数的算术运算。它提供了高性能的 GMP 和 MPIR 库的接口，可以处理非常大的整数和有理数。\n",
    "\n",
    "- 安装指令 `pip install gmpy2` `pip install sympy`\n",
    "- 适合：大数运算\n",
    "\n",
    "## gmpy2\n",
    "\n",
    "下面我们简单地使用一些基本的用法（这些功能 sage 都能够快速实现，所以不详细讲解了）：\n",
    "\n",
    "- **`gmpy2.is_prime(n)`**: 检查一个整数 `n` 是否为素数。\n",
    "- **`gmpy2.next_prime(n)`**: 返回大于 `n` 的下一个素数。\n",
    "- **`gmpy2.prev_prime(n)`**: 返回小于 `n` 的上一个素数。\n",
    "\n",
    "- **`gmpy2.gcd(a, b)`**: 计算 `a` 和 `b` 的最大公约数。\n",
    "- **`gmpy2.lcm(a, b)`**: 计算 `a` 和 `b` 的最小公倍数。\n",
    "\n",
    "- **`gmpy2.invert(a, m)`**: 计算 `a` 在模 `m` 下的乘法逆元。\n",
    "- **`gmpy2.powmod(a, b, m)`**: 计算 `a` 的 `b` 次幂模 `m`。\n",
    "\n",
    "- **`gmpy2.is_power(n)`**: 检查 `n` 是否为完全幂。\n",
    "- **`gmpy2.root(a, b)`**: 计算 `a` 的 `b` 次方根。\n",
    "- **`gmpy2.iroot(a, b)`**: 计算 `a` 的 `b` 次方根，返回一个元组，包含结果和布尔值，表示是否为完全幂。"
   ]
  },
  {
   "cell_type": "code",
   "execution_count": 2,
   "metadata": {},
   "outputs": [
    {
     "data": {
      "text/plain": [
       "(mpz(6), mpz(6), mpz(7), False, (mpz(5), True), mpz(101))"
      ]
     },
     "execution_count": 2,
     "metadata": {},
     "output_type": "execute_result"
    }
   ],
   "source": [
    "import gmpy2\n",
    "gmpy2.gcd(6,18), gmpy2.invert(4,23), gmpy2.powmod(2,11,13), gmpy2.is_prime(564587462423644586312345678908654325263456667), gmpy2.iroot(125, 3), gmpy2.next_prime(100)"
   ]
  },
  {
   "cell_type": "markdown",
   "metadata": {},
   "source": [
    "## sympy\n",
    "\n",
    "> https://docs.sympy.org/latest/modules/ntheory.html"
   ]
  },
  {
   "cell_type": "code",
   "execution_count": 7,
   "metadata": {},
   "outputs": [
    {
     "data": {
      "text/plain": [
       "(23, False, 26, 97, 103, [8, 15])"
      ]
     },
     "execution_count": 7,
     "metadata": {},
     "output_type": "execute_result"
    }
   ],
   "source": [
    "import sympy\n",
    "sympy.prime(9), sympy.isprime(564587462423644586312345678908654325263456667), sympy.primepi(101), sympy.prevprime(101), sympy.nextprime(101), sympy.nthroot_mod(18, 2, 23, all_roots=True)"
   ]
  },
  {
   "cell_type": "code",
   "execution_count": null,
   "metadata": {},
   "outputs": [],
   "source": [
    "import sympy\n",
    "n= 23298836191712395990541254600776262066247692725919114528027158820049802443474994576179738462067629079873633948850637889127452791527914591229415148712172587856497614285410824614070907847594399218298016379507879066220104597707859246179921731928508884947347652904142879813069359815823184922170241099916465722623\n",
    "e = 9\n",
    "c= 9314530945343661153059846131608414257092556390479105017633636336832925597262814680689800448223193301814365726128618348603188219757245073917910487794768758461683644600756896595336654006282030911824869219015400826589122838492456940861634378619000373353637666835642505021355710338342048772713981673863167110471\n",
    "# c = pow(m, e, n)\n",
    "\n",
    "sympy.nthroot_mod(c, e, n, all_roots=True)"
   ]
  }
 ],
 "metadata": {
  "kernelspec": {
   "display_name": "ctf",
   "language": "python",
   "name": "python3"
  },
  "language_info": {
   "codemirror_mode": {
    "name": "ipython",
    "version": 3
   },
   "file_extension": ".py",
   "mimetype": "text/x-python",
   "name": "python",
   "nbconvert_exporter": "python",
   "pygments_lexer": "ipython3",
   "version": "3.10.14"
  }
 },
 "nbformat": 4,
 "nbformat_minor": 2
}
