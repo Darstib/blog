{
 "cells": [
  {
   "cell_type": "markdown",
   "metadata": {},
   "source": [
    "# pwntools\n",
    "\n",
    "- 安装指令：`pip install pwntools`\n",
    "- 使用场景： 与服务器进行交互，且在Crypto中也能用来绕过pow(proof of work)共识机制、向提供的ip端口发送payload以及快速编写exp。\n",
    "\n",
    "## connect"
   ]
  },
  {
   "cell_type": "code",
   "execution_count": null,
   "metadata": {},
   "outputs": [],
   "source": [
    "from pwn import *\n",
    "\n",
    "# 连接到远程服务器\n",
    "## host+ip 连接\n",
    "host = '127.0.0.1'\n",
    "port = 8080\n",
    "rmt = remote(host, port, level='debug') # 使用最多，不使用'r' 是因为 sage.all 中可能会引入 r，导致冲突\n",
    "## ssh 连接\n",
    "user = 'root'\n",
    "password = '123456'\n",
    "s = ssh(host=host, port=port, user=user, password=password)\n",
    "## 本地调试\n",
    "p = process('./to_be_pwned')\n",
    "# 下面我们统一使用 conn 表示连接对象。\n",
    "conn.close() # 关闭连接"
   ]
  },
  {
   "cell_type": "markdown",
   "metadata": {},
   "source": [
    "## package\n",
    "\n",
    "p32/p64 能够将哈希值变为字节流并填充至32/64位 bits"
   ]
  },
  {
   "cell_type": "code",
   "execution_count": null,
   "metadata": {},
   "outputs": [
    {
     "data": {
      "text/plain": [
       "(b'\\xef\\xbe\\xad\\xde',\n",
       " b'\\xef\\xbe\\xad\\xde\\x00\\x00\\x00\\x00',\n",
       " b'xV4\\x12',\n",
       " b'xV4\\x12\\x00\\x00\\x00\\x00')"
      ]
     },
     "execution_count": 9,
     "metadata": {},
     "output_type": "execute_result"
    }
   ],
   "source": [
    "from pwn import *\n",
    "test_hex = 0xdeadbeef\n",
    "# attack_hex = 0x1234567890abcdef # 待打包内容字节数不能够超过对应位数\n",
    "p32(test_hex), p64(test_hex) #, p32(attack_hex), p64(attack_hex)"
   ]
  },
  {
   "cell_type": "markdown",
   "metadata": {},
   "source": [
    "## send and receive\n",
    "\n",
    "最重要的当然是数据交互："
   ]
  },
  {
   "cell_type": "code",
   "execution_count": null,
   "metadata": {},
   "outputs": [],
   "source": [
    "data = b\"I wanna Flag\"\n",
    "\n",
    "conn.send(data) # 发送数据\n",
    "conn.sendline(data) # 发送数据并换行，相当于添加了 `\\n`\n",
    "conn.sendafter('prompt', data) # 发送数据直到遇到 `prompt`\n",
    "\n",
    "conn.recv() # 接收数据\n",
    "conn.recv(n) # 接收 n 字节数据\n",
    "conn.recvline() # 接收一行数据\n",
    "conn.recvall(timeout=1) # 接收所有数据，直到 1s 未接收到信息\n",
    "conn.recvuntil('prompt') # 接收数据直到遇到 `prompt`\n",
    "conn.recvuntil_match(re.compile(b'prompt')) # 接收数据直到遇到正则表达式\n",
    "\n",
    "conn.interact() # 交互式操作，相当于进入手动操作"
   ]
  },
  {
   "cell_type": "markdown",
   "metadata": {},
   "source": [
    "下面这段代码主要用于绕过基于工作量证明（Proof of Work, PoW）的验证机制。\n",
    "\n",
    "> [!CITE]\n",
    ">\n",
    "> [Proof_of_work](https://www.wikiwand.com/en/articles/Proof_of_work)"
   ]
  },
  {
   "cell_type": "code",
   "execution_count": null,
   "metadata": {},
   "outputs": [],
   "source": [
    "import binascii\n",
    "from pwn import remote\n",
    "import string\n",
    "import itertools\n",
    "from hashlib import sha256\n",
    "from pwn import *\n",
    "#定义字母表\n",
    "table = string.ascii_letters+string.digits\n",
    "#定义PoW函数\n",
    "def PoW(hash_value, part):\n",
    "    alphabet = string.ascii_letters + string.digits\n",
    "    for x in itertools.product(alphabet, repeat=4):\n",
    "        nonce = ''.join(x)\n",
    "        if sha256((nonce + part.decode()).encode()).hexdigest() == hash_value.decode():\n",
    "        \treturn nonce\n",
    "\n",
    "host = '127.0.0.1'\n",
    "port = 8080\n",
    "conn = remote(host, port)\n",
    "msg = conn.recvuntil(b'Plz tell me XXXX:')\n",
    "print(msg)\n",
    "part = msg[12:28]\n",
    "hashvalue = msg[33:-18]\n",
    "print(part, hashvalue)\n",
    "nonce = PoW(hashvalue, part)\n",
    "print(nonce)\n",
    "conn.sendline(nonce.encode()) # 发送我们的“证明”\n",
    "conn.recvuntil(b'> ')"
   ]
  }
 ],
 "metadata": {
  "kernelspec": {
   "display_name": "ctf",
   "language": "python",
   "name": "python3"
  },
  "language_info": {
   "codemirror_mode": {
    "name": "ipython",
    "version": 3
   },
   "file_extension": ".py",
   "mimetype": "text/x-python",
   "name": "python",
   "nbconvert_exporter": "python",
   "pygments_lexer": "ipython3",
   "version": "3.10.14"
  }
 },
 "nbformat": 4,
 "nbformat_minor": 2
}
