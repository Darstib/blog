{
 "cells": [
  {
   "cell_type": "markdown",
   "metadata": {},
   "source": [
    "# libnum\n",
    "\n",
    "- 安装指令：pip install libnum\n",
    "- 使用场景：进制转换、打素数表等等\n",
    "\n",
    "## 数据类型转换"
   ]
  },
  {
   "cell_type": "code",
   "execution_count": null,
   "metadata": {},
   "outputs": [
    {
     "data": {
      "text/plain": [
       "(b'012abc', '012abc')"
      ]
     },
     "execution_count": 30,
     "metadata": {},
     "output_type": "execute_result"
    }
   ],
   "source": [
    "from libnum import *\n",
    "from gmpy2 import log2\n",
    "from Crypto.Util.number import bytes_to_long, long_to_bytes\n",
    "\n",
    "s = \"012abc\"\n",
    "s2n(s), bytes_to_long(s.encode()) # (52987856773731, 52987856773731)\n",
    "n2s(num), long_to_bytes(num) # ('012abc', b'012abc')\n",
    "\n",
    "s_num = s2n(s)\n",
    "len_in_bits(num), log2(num) # (46, mpfr('45.590727008691232'))\n",
    "\n",
    "\n",
    "s2b(s), \"\".join([bin(ord(c)) for c in s])[2:] # ('001100000011000100110010011000010110001001100011', '1100000b1100010b1100100b11000010b11000100b1100011')\n",
    "s_bin = s2b(s)\n",
    "b2s(s_bin), \"\".join([chr(int(s_bin[i:i+8], 2)) for i in range(0, len(s_bin), 8)]) # ('012abc', '012abc')"
   ]
  },
  {
   "cell_type": "markdown",
   "metadata": {},
   "source": [
    "## 获取素数\n",
    "\n",
    "- `primes(n)` 获取不大于n的所有素数\n",
    "- `generate_primes(n)` 获取长度为 n bits 的素数\n",
    "- `factorize(n)` 分解质因数"
   ]
  },
  {
   "cell_type": "code",
   "execution_count": 36,
   "metadata": {},
   "outputs": [
    {
     "data": {
      "text/plain": [
       "([2,\n",
       "  3,\n",
       "  5,\n",
       "  7,\n",
       "  11,\n",
       "  13,\n",
       "  17,\n",
       "  19,\n",
       "  23,\n",
       "  29,\n",
       "  31,\n",
       "  37,\n",
       "  41,\n",
       "  43,\n",
       "  47,\n",
       "  53,\n",
       "  59,\n",
       "  61,\n",
       "  67,\n",
       "  71,\n",
       "  73,\n",
       "  79,\n",
       "  83,\n",
       "  89,\n",
       "  97,\n",
       "  101],\n",
       " 1733,\n",
       " {264547984673890083312604955351805711413: 1, 13093: 1, 163: 1})"
      ]
     },
     "execution_count": 36,
     "metadata": {},
     "output_type": "execute_result"
    }
   ],
   "source": [
    "little_num = 101\n",
    "littlelittle_num = 11\n",
    "to_be_factorized = 564587462423644586312345678908654325263456667\n",
    "primes(little_num), generate_prime(littlelittle_num), factorize(to_be_factorized)"
   ]
  },
  {
   "cell_type": "markdown",
   "metadata": {},
   "source": [
    "当然，大数分解质因数还得看 factordb 。"
   ]
  },
  {
   "cell_type": "code",
   "execution_count": null,
   "metadata": {},
   "outputs": [],
   "source": [
    "factorize(8699621268124163273600280057569065643071518478496234908779966583664908604557271908267773859706827828901385412151814796018448555312901260592)"
   ]
  },
  {
   "cell_type": "markdown",
   "metadata": {},
   "source": [
    "## factordb\n",
    "\n",
    "- 安装指令：`pip3 install factordb-python`\n",
    "\n",
    "- 使用场景：命令行中使用，分解大整数，之中存储了大量的已知的分解的整数，也就是说相当于只是在查表，所以很快。\n",
    "\n",
    "对于上面的大数：\n",
    "\n",
    "```\n",
    "8699621268124163273600280057569065643071518478496234908779966583664908604557271908267773859706827828901385412151814796018448555312901260592\n",
    "```\n",
    "\n",
    "yafu 分解失败；libnum 分解了 6 min 还在跑；\n",
    "\n",
    "sage 分解用时 53 s 左右：\n",
    "\n",
    "```python\n",
    "2^4 * 3^2 * 31 * 61 * 223 * 4013 * 281317 * 4151351 * 339386329 * 370523737 * 5404604441993 * 26798471753993 * 25866088332911027256931479223 * 64889106213996537255229963986303510188999911\n",
    "```\n",
    "\n",
    "factordb 很快就给出了答案：\n",
    "\n",
    "```shell\n",
    "$ factordb 86996212681241632736002800575690656430715184784\n",
    "96234908779966583664908604557271908267773859706827828901385412151814796018448555312901260592\n",
    "2 2 2 2 3 3 31 61 223 4013 281317 4151351 339386329 370523737 5404604441993 26798471753993 25866088332911027256931479223 64889106213996537255229963986303510188999911\n",
    "```"
   ]
  }
 ],
 "metadata": {
  "kernelspec": {
   "display_name": "ctf",
   "language": "python",
   "name": "python3"
  },
  "language_info": {
   "codemirror_mode": {
    "name": "ipython",
    "version": 3
   },
   "file_extension": ".py",
   "mimetype": "text/x-python",
   "name": "python",
   "nbconvert_exporter": "python",
   "pygments_lexer": "ipython3",
   "version": "3.10.14"
  }
 },
 "nbformat": 4,
 "nbformat_minor": 2
}
