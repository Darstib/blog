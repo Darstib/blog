{
 "cells": [
  {
   "cell_type": "markdown",
   "metadata": {},
   "source": [
    "## Introduction\n",
    "\n",
    "> [!QUOTE]\n",
    ">\n",
    "> Sage is free, open-source math software that supports research and teaching in algebra, geometry, number theory, cryptography, numerical computation, and related areas. Both the Sage development model and the technology in Sage itself are distinguished by an extremely strong emphasis on openness, community, cooperation, and collaboration: we are building the car, not reinventing the wheel. The overall goal of Sage is to create a viable, free, open-source alternative to Maple, Mathematica, Magma, and MATLAB.\n",
    "\n",
    "- [sage 官方文档](https://doc.sagemath.org/html/en/index.html)\n",
    "- [在线运行](https://sagecell.sagemath.org/)\n",
    "\n",
    "## Basic use\n",
    "\n",
    "在简单语法上和 python 很类似，函数的定义和使用是一样的，就不讲了；如果想要在python中使用，就需要先导入 sage 库 `from sage.all import *` 即可。\n",
    "\n",
    "> 下面的内容基于 ipynb/jupyter 形式实现，使用 sageMath 10.3 。"
   ]
  },
  {
   "cell_type": "code",
   "execution_count": 1,
   "metadata": {},
   "outputs": [
    {
     "data": {
      "text/plain": [
       "(4, 8, 25, 25, 16, 4)"
      ]
     },
     "execution_count": 1,
     "metadata": {},
     "output_type": "execute_result"
    }
   ],
   "source": [
    "from sage.all import *\n",
    "2+2, 2**3, 5*5, 5**2, 2*2**3, 2**2**3**0"
   ]
  },
  {
   "cell_type": "markdown",
   "metadata": {},
   "source": [
    "> 注意，sage 中 `2^3` == `2**3`\n",
    "\n",
    "### fuction\n",
    "\n",
    "`sqrt()` `sin()` `factor()` `two_squares()` `latex()`"
   ]
  },
  {
   "cell_type": "code",
   "execution_count": 2,
   "metadata": {},
   "outputs": [
    {
     "data": {
      "text/plain": [
       "2^10 * 5 * 7^2 * 37 * 193 * 331 * 569 * 5153 * 65381 * 146317 * 155943343 * 9206678941 * 18623046139 * 1290117019611958829 * 6846725164570923688379767 * 575390540597317088017221077"
      ]
     },
     "execution_count": 2,
     "metadata": {},
     "output_type": "execute_result"
    }
   ],
   "source": [
    "factor(2260305277112127131723251710487571168300606058081777971297059135638227918807397016980532281858292026960397175871392336597693440)"
   ]
  },
  {
   "cell_type": "markdown",
   "metadata": {
    "vscode": {
     "languageId": "sage"
    }
   },
   "source": [
    "> [!QUOTE]\n",
    ">\n",
    "> As the last example shows, some mathematical expressions return ‘exact’ values, rather than numerical approximations. To get a numerical approximation, use either the function N or the method n (and both of these have a longer name, numerical_approx, and the function N is the same as n). These take optional arguments prec, which is the requested number of bits of precision, and digits, which is the requested number of decimal digits of precision; the default is 53 bits of precision."
   ]
  },
  {
   "cell_type": "code",
   "execution_count": 3,
   "metadata": {},
   "outputs": [
    {
     "data": {
      "text/plain": [
       "(e^2,\n",
       " 7.38905609893065,\n",
       " 3.1415926535897932384626433832795028841971693993751058209749)"
      ]
     },
     "execution_count": 3,
     "metadata": {},
     "output_type": "execute_result"
    }
   ],
   "source": [
    "exp(2), n(exp(2)), numerical_approx(pi, prec=200)"
   ]
  },
  {
   "cell_type": "code",
   "execution_count": 4,
   "metadata": {},
   "outputs": [
    {
     "data": {
      "text/plain": [
       "-1/2/(x + 1) + 1/2/(x - 1)"
      ]
     },
     "execution_count": 4,
     "metadata": {},
     "output_type": "execute_result"
    }
   ],
   "source": [
    "x = var('x')\n",
    "f = 1/((1+x)*(x-1))\n",
    "f.partial_fraction(x)"
   ]
  },
  {
   "cell_type": "markdown",
   "metadata": {},
   "source": [
    "### get help\n",
    "\n",
    "> [!QUOTE]\n",
    "> \n",
    "> Sage has extensive built-in documentation, accessible by typing the name of a function or a constant (for example), followed by a question mark (?); alse, we can use the `help()` function."
   ]
  },
  {
   "cell_type": "markdown",
   "metadata": {
    "vscode": {
     "languageId": "sage"
    }
   },
   "source": [
    "### data structure\n",
    "\n",
    "和 python 一样，sage 也有列表，字典，元组，集合等数据结构。"
   ]
  },
  {
   "cell_type": "code",
   "execution_count": 6,
   "metadata": {},
   "outputs": [
    {
     "data": {
      "text/plain": [
       "([2, 5, 8, 11, 14, 17], (2, 5, 8, 11, 14, 17))"
      ]
     },
     "execution_count": 6,
     "metadata": {},
     "output_type": "execute_result"
    }
   ],
   "source": [
    "list(range(2, 20, 3)), vector(range(2, 20, 3))"
   ]
  },
  {
   "cell_type": "markdown",
   "metadata": {},
   "source": [
    "不同的是，Sage math 的列表支持不同类型的元素，而 Python 的列表只支持一种类型；同样的，使用 len() 获取列表长度，使用 append() 添加元素，使用 remove() 删除元素。"
   ]
  },
  {
   "cell_type": "code",
   "execution_count": 7,
   "metadata": {},
   "outputs": [
    {
     "name": "stdout",
     "output_type": "stream",
     "text": [
      "1 3.20000000000000 hello (2, 3) [1, 2, 3] "
     ]
    }
   ],
   "source": [
    "l = [1, 3.2, \"hello\", (2, 3), [1, 2, 3]]\n",
    "for i in l:\n",
    "    print(i, end=\" \")"
   ]
  },
  {
   "cell_type": "markdown",
   "metadata": {},
   "source": [
    "字典等也是同理，支持不同类型的元素。"
   ]
  },
  {
   "cell_type": "code",
   "execution_count": 8,
   "metadata": {},
   "outputs": [
    {
     "name": "stdout",
     "output_type": "stream",
     "text": [
      "1 one # pi 3.14150000000000 # admin darstib # "
     ]
    }
   ],
   "source": [
    "d = {1: \"one\", 'pi': 3.1415 , \"admin\": \"darstib\"}\n",
    "for k in d.keys():\n",
    "    print(k, d[k], end=\" # \")"
   ]
  },
  {
   "cell_type": "markdown",
   "metadata": {},
   "source": [
    "## Basic Algebra and Calculus\n",
    "\n",
    "我们使用 var() 来创建一个变量；`oo` 表示无穷大。\n",
    "\n",
    "`diff` `integrate` `solve` `limit` `plot` `solve`"
   ]
  },
  {
   "cell_type": "code",
   "execution_count": 9,
   "metadata": {},
   "outputs": [
    {
     "data": {
      "text/plain": [
       "(cos(x), -cos(x), 0, ind, [x == 0])"
      ]
     },
     "execution_count": 9,
     "metadata": {},
     "output_type": "execute_result"
    }
   ],
   "source": [
    "x = var('x')\n",
    "y = sin(x)\n",
    "diff(y, x), integrate(y, x), limit(y, x=0), limit(y, x=oo), solve(y == 0, x)"
   ]
  },
  {
   "cell_type": "markdown",
   "metadata": {},
   "source": [
    "### 求解器 solve\n",
    "\n",
    "当然也可以创建多个变量，这和 z3 求解器是类似的。"
   ]
  },
  {
   "cell_type": "code",
   "execution_count": 10,
   "metadata": {},
   "outputs": [
    {
     "data": {
      "text/plain": [
       "[[a == 0, b == 1, c == 0]]"
      ]
     },
     "execution_count": 10,
     "metadata": {},
     "output_type": "execute_result"
    }
   ],
   "source": [
    "a, b, c = var('a, b, c')\n",
    "solve([a + b + c == 1, a + 2*b + 4*c == 2, a + 3*b + 9*c == 3], a, b, c)"
   ]
  },
  {
   "cell_type": "markdown",
   "metadata": {},
   "source": [
    "我们可以用这个来求线性方程组等等；对于多解情况，可以直接输出，也可以存起来以便控制输出精度。"
   ]
  },
  {
   "cell_type": "code",
   "execution_count": 11,
   "metadata": {},
   "outputs": [
    {
     "data": {
      "text/plain": [
       "[[1.0, 8.0, -4.9, -0.14], [1.0, 8.0, 3.6, -1.2]]"
      ]
     },
     "execution_count": 11,
     "metadata": {},
     "output_type": "execute_result"
    }
   ],
   "source": [
    "var('x y p q')\n",
    "eq1 = p+q==9\n",
    "eq2 = q*y+p*x==-6\n",
    "eq3 = q*y**2+p*x**2==24\n",
    "solns = solve([eq1,eq2,eq3,p==1],p,q,x,y, solution_dict=True)\n",
    "[[s[p].n(10), s[q].n(10), s[x].n(10), s[y].n(10)] for s in solns]"
   ]
  },
  {
   "cell_type": "markdown",
   "metadata": {},
   "source": [
    "### 求根 find_root\n",
    "\n",
    "有时候，solve 能够找到一个解，但是无法给出粗略值，这时候就可以使用 find_root 函数。"
   ]
  },
  {
   "cell_type": "code",
   "execution_count": 12,
   "metadata": {},
   "outputs": [
    {
     "data": {
      "text/plain": [
       "([sin(x) == cos(x)], 0.7853981633974484)"
      ]
     },
     "execution_count": 12,
     "metadata": {},
     "output_type": "execute_result"
    }
   ],
   "source": [
    "var('x')\n",
    "solve(sin(x) == cos(x), x), find_root(sin(x) == cos(x), 0, pi) # 限制范围在 0 到 pi 之间"
   ]
  },
  {
   "cell_type": "markdown",
   "metadata": {},
   "source": [
    "### 微积分\n",
    "\n",
    "在前面我们也提到过，在密码学中，我们经常需要对函数进行求导和积分，在SageMath中，我们也可以很方便地进行求导和积分。\n",
    "直接使用 diff 共可接收三个参数，按照我们习惯的说法就是 (f(x), x, n) 其中 n 表示微分阶数。"
   ]
  },
  {
   "cell_type": "code",
   "execution_count": 14,
   "metadata": {},
   "outputs": [
    {
     "data": {
      "text/plain": [
       "16*x^4*sin(x^2) - 48*x^2*cos(x^2) - 12*sin(x^2)"
      ]
     },
     "execution_count": 14,
     "metadata": {},
     "output_type": "execute_result"
    }
   ],
   "source": [
    "diff(sin(x^2), x, 4)"
   ]
  },
  {
   "cell_type": "markdown",
   "metadata": {},
   "source": [
    "多元微分咋办？"
   ]
  },
  {
   "cell_type": "code",
   "execution_count": 15,
   "metadata": {},
   "outputs": [
    {
     "data": {
      "text/plain": [
       "(2*x, 34*y)"
      ]
     },
     "execution_count": 15,
     "metadata": {},
     "output_type": "execute_result"
    }
   ],
   "source": [
    "x, y = var('x,y')\n",
    "f = x^2 + 17*y^2\n",
    "f.diff(x), f.diff(y)"
   ]
  },
  {
   "cell_type": "markdown",
   "metadata": {},
   "source": [
    "（不）定积分怎么办？"
   ]
  },
  {
   "cell_type": "code",
   "execution_count": 16,
   "metadata": {},
   "outputs": [
    {
     "data": {
      "text/plain": [
       "(-1/2*cos(x^2), 1/2*log(2))"
      ]
     },
     "execution_count": 16,
     "metadata": {},
     "output_type": "execute_result"
    }
   ],
   "source": [
    "integral(x*sin(x^2), x), integral(x/(x^2+1), x, 0, 1) # 后两个参数表示积分上下限"
   ]
  },
  {
   "cell_type": "markdown",
   "metadata": {},
   "source": [
    "## 简单数论\n",
    "> 参考 https://lazzzaro.github.io/2020/05/10/crypto-crypto%E5%B8%B8%E7%94%A8%E5%B7%A5%E5%85%B7/#Sage & https://jayxv.github.io/2020/05/20/sage%E5%B8%B8%E7%94%A8%E5%91%BD%E4%BB%A4/\n",
    "\n",
    "### 快速运算"
   ]
  },
  {
   "cell_type": "code",
   "execution_count": 22,
   "metadata": {},
   "outputs": [
    {
     "data": {
      "text/plain": [
       "(15, 15)"
      ]
     },
     "execution_count": 22,
     "metadata": {},
     "output_type": "execute_result"
    }
   ],
   "source": [
    "# mod(a, b) == a%b\n",
    "a, b = 34525, 17\n",
    "mod(a,b), a % b"
   ]
  },
  {
   "cell_type": "code",
   "execution_count": 23,
   "metadata": {},
   "outputs": [
    {
     "data": {
      "text/plain": [
       "(49, 49, 49)"
      ]
     },
     "execution_count": 23,
     "metadata": {},
     "output_type": "execute_result"
    }
   ],
   "source": [
    "# g.powermod(n, m) == power_mod(g, n, m) == g^n % m\n",
    "g, n, m = 32546, 2456, 113\n",
    "g.powermod(n, m), power_mod(g, n, m), g^n % m"
   ]
  },
  {
   "cell_type": "markdown",
   "metadata": {},
   "source": [
    "- `factorial(n)` 求 n 的阶乘\n",
    "- `gcd(a,b)` 求 a 和 b 的最大公约数\n",
    "- `xgcd(a,b)` 求 a 和 b 的最大公约数和扩展欧几里得算法\n",
    "- `euler_phi(n)` 欧拉函数 $\\varphi(x)=x\\prod_{i=1}^n(1-\\frac1{p_i})$\n",
    "- `inverse_mod(a, p)` 求 a 在模 p 意义下的逆元"
   ]
  },
  {
   "cell_type": "code",
   "execution_count": 24,
   "metadata": {},
   "outputs": [
    {
     "data": {
      "text/plain": [
       "(1, 1)"
      ]
     },
     "execution_count": 24,
     "metadata": {},
     "output_type": "execute_result"
    }
   ],
   "source": [
    "# quadratic_residues(p) == \\exit a => x=a^2(mod p) 二次剩余\n",
    "quadratic_residues(23) # [0, 1, 2, 3, 4, 6, 8, 9, 12, 13, 16, 18]\n",
    "# kronecker(a,p) == pow(a, (p-1)//2, p) legendre symbol # 判断是否二次剩余\n",
    "a , p = 3, 11\n",
    "kronecker(a, p), pow(a, (p-1)//2, p)"
   ]
  },
  {
   "cell_type": "code",
   "execution_count": null,
   "metadata": {},
   "outputs": [
    {
     "name": "stdout",
     "output_type": "stream",
     "text": [
      "35071\n"
     ]
    }
   ],
   "source": [
    "# inverse_mod(a, p)\n",
    "a = 2334\n",
    "p = 0x10001\n",
    "print(inverse_mod(a, p))\n",
    "assert(inverse_mod(a, p) * a % p == 1)"
   ]
  },
  {
   "cell_type": "code",
   "execution_count": 4,
   "metadata": {},
   "outputs": [
    {
     "data": {
      "text/plain": [
       "(7, 15)"
      ]
     },
     "execution_count": 4,
     "metadata": {},
     "output_type": "execute_result"
    }
   ],
   "source": [
    "# reduce(function, iterable[, initial]) -> value\n",
    "reduce(gcd, [14, 28, 35]), reduce(lambda x, y: x + y, [1, 2, 3, 4, 5])"
   ]
  },
  {
   "cell_type": "markdown",
   "metadata": {},
   "source": [
    "- `x.nth_root(n)` 求 x 的 n 次方根\n",
    "- `nth_root_mod(a, n, p)` 求 $x^n\\equiv a\\pmod{p}$ 中的 x (对应 `sympy.nthroot_mod(a, n, p, all_roots=True)`，sage 中似乎没有，手动实现)"
   ]
  },
  {
   "cell_type": "code",
   "execution_count": 26,
   "metadata": {},
   "outputs": [
    {
     "data": {
      "text/plain": [
       "[8, 15]"
      ]
     },
     "execution_count": 26,
     "metadata": {},
     "output_type": "execute_result"
    }
   ],
   "source": [
    "x = 3**8-1\n",
    "x.nth_root(3, truncate_mode='ceil'), x.nth_root(3, truncate_mode='floor'), x.nth_root(3, truncate_mode=1), x.nth_root(3, truncate_mode=True)\n",
    "# ((18, False), (18, False), (18, False), (18, False))\n",
    "def nth_root_mod(a, n, p):\n",
    "    roots = []\n",
    "    for x in range(p):\n",
    "        if power_mod(x, n, p) == a % p:\n",
    "            roots.append(x)\n",
    "    return roots\n",
    "nth_root_mod(18, 2, 23)"
   ]
  },
  {
   "cell_type": "markdown",
   "metadata": {},
   "source": [
    "### 平方和分解\n",
    "\n",
    "- `is_square(n)` 判断 n 是否为完全平方数\n",
    "- `two_squares(n)` 将 n 分解为两个平方和\n",
    "- `three_squares(n)` 将 n 分解为三个平方和\n",
    "- `four_squares(n)` 将 n 分解为四个平方和\n",
    "\n",
    "> 根据 [Devv.ai - gpt-4o-mini](https://devv.ai/search?threadId=e2j7avehvthc):\n",
    "\n",
    "#### 1. 两平方和定理（Sum of Two Squares Theorem）\n",
    "\n",
    "- **定理内容**：A positive integer  n is equal to the sum of two perfect squares if and only if the prime factorization of  n contains no odd exponent on any prime that is congruent to 3 modulo 4.\n",
    "- 具体来说，如果 n 的质因数分解中包含形如$p^k$的项，其中 p 是一个质数， k是一个奇数，且 p 模4余3，那么 n 就不能表示为两个完全平方数之和。\n",
    "- 也可以说，一个正整数 nn 可以表示为两个平方的和 $n=a^2+b^2$ 当且仅当在其素因数分解中，所有形如 $4^k(4m+3)$ 的素数的指数都是偶数。\n",
    "- **例子**：例如，$5=1^2+2^2$ 可以表示为两个平方的和，而 71 不能。\n",
    "\n",
    "#### 2. 三平方和定理（Legendre's Three Square Theorem）\n",
    "\n",
    "- **定理内容**：一个正整数 nn 可以表示为三个平方的和 n=a2+b2+c2n=a2+b2+c2 当且仅当 n 不是形如 $4^k(8m+7)$ 的数。\n",
    "- **例子**：例如，$13=3^2+2^2+0^2$ 可以表示为三个平方的和，而 71 不能。\n",
    "\n",
    "#### 3. 四平方和定理（Lagrange's Four Square Theorem）\n",
    "\n",
    "- **定理内容**：每个正整数 nn 都可以表示为四个平方的和 $n=a^2+b^2+c^2+d^2$\n",
    "- **例子**：这下 71 终于能分解了：$71=2^2+3^2+3^2+7^2$\n"
   ]
  },
  {
   "cell_type": "code",
   "execution_count": 27,
   "metadata": {},
   "outputs": [
    {
     "data": {
      "text/plain": [
       "((2124080185874205807105261594884049506071023711463225511583343733907861918114771262515207146329816119356450361177578637163739714518747645791197729692842795,\n",
       "  12987160767716970127272498846249389966243604043045970877384806399031879779694511338759174534221141662365315103597141408214751747758739021312936535825747936),\n",
       " (2, 3, 3, 7))"
      ]
     },
     "execution_count": 27,
     "metadata": {},
     "output_type": "execute_result"
    }
   ],
   "source": [
    "big_num = 173178061442550241596295506150572803829268102881297542445649200353047297914764783385643705889370567071577408829104128703765633248277722687055281420899564198724968491216409225857070531370724352556864154450614891750313803499101686782558259953244119778256806332589612663957000269869144555485216828399422391672121\n",
    "two_squares(big_num), four_squares(71)"
   ]
  },
  {
   "cell_type": "markdown",
   "metadata": {},
   "source": [
    "### 素数与分解\n",
    "\n",
    "- `is_prime(n)` `n in Primes()`判断是否为质数\n",
    "- `random_prime(n)` 生成一个 n 的随机质数\n",
    "- `previous_prime(n)` 小于 n 的最大质数\n",
    "- `next_prime(n)` 大于 n 的最小质数\n",
    "- `prime_pi(n)` `pari(n).primepi()` 小于 n 的质数个数，根据素数定理有 $prime\\_pi(n) \\approx \\frac{n}{ln(n)}$\n",
    "- `factor(n)` 大数质分解，除 factordb 查表外，这个最快；测试 big_num 用时 53.3s\n",
    "- `prime_factors(n)` 同上，去除重复因子，保留为列表\n",
    "- `divisor(n)` n 的因子；测试 big_num 用时 49.7s\n",
    "- `number_of_divisors(n)` n 的因子个数；测试 big_num 用时 49.0s\n",
    "- `sigma(n, k)` n 的因子的 k 次幂之和"
   ]
  },
  {
   "cell_type": "code",
   "execution_count": 28,
   "metadata": {},
   "outputs": [
    {
     "data": {
      "text/plain": [
       "2^4 * 3^2 * 31 * 61 * 223 * 4013 * 281317 * 4151351 * 339386329 * 370523737 * 5404604441993 * 26798471753993 * 25866088332911027256931479223 * 64889106213996537255229963986303510188999911"
      ]
     },
     "execution_count": 28,
     "metadata": {},
     "output_type": "execute_result"
    }
   ],
   "source": [
    "big_num = 8699621268124163273600280057569065643071518478496234908779966583664908604557271908267773859706827828901385412151814796018448555312901260592\n",
    "factor(big_num)"
   ]
  },
  {
   "cell_type": "code",
   "execution_count": null,
   "metadata": {},
   "outputs": [],
   "source": [
    "divisors(big_num) # 因数分解"
   ]
  },
  {
   "cell_type": "code",
   "execution_count": 30,
   "metadata": {},
   "outputs": [
    {
     "data": {
      "text/plain": [
       "61440"
      ]
     },
     "execution_count": 30,
     "metadata": {},
     "output_type": "execute_result"
    }
   ],
   "source": [
    "big_num = 8699621268124163273600280057569065643071518478496234908779966583664908604557271908267773859706827828901385412151814796018448555312901260592\n",
    "number_of_divisors(big_num)"
   ]
  },
  {
   "cell_type": "markdown",
   "metadata": {},
   "source": [
    "### CRT（中国剩余定理）\n",
    "\n",
    "$$\n",
    "\\begin{cases}x\\equiv2\\pmod3\\\\x\\equiv3\\pmod5\\\\x\\equiv2\\pmod7\n",
    "\\end{cases}\n",
    "$$\n",
    "\n",
    "求解 x ；可以使用 crt 函数解决。"
   ]
  },
  {
   "cell_type": "code",
   "execution_count": 31,
   "metadata": {},
   "outputs": [
    {
     "data": {
      "text/plain": [
       "(23, 23)"
      ]
     },
     "execution_count": 31,
     "metadata": {},
     "output_type": "execute_result"
    }
   ],
   "source": [
    "crt_problem = ([2,3,2],[3,5,7])\n",
    "# 仅适用模两两互素 https://lazzzaro.github.io/2020/05/10/crypto-crypto%E5%B8%B8%E7%94%A8%E5%B7%A5%E5%85%B7/#Sage\n",
    "def chinese_remainder(problem: tuple) -> int:\n",
    "    remainders = problem[0]\n",
    "    modulus = problem[1]\n",
    "    Sum = 0\n",
    "    prod = reduce(lambda a, b: a*b, modulus)\n",
    "    for m_i, r_i in zip(modulus, remainders):\n",
    "        p = prod // m_i\n",
    "        Sum += r_i * (inverse_mod(p,m_i)*p)\n",
    "    return Sum % prod\n",
    "chinese_remainder(crt_problem), crt(crt_problem[0], crt_problem[1])"
   ]
  }
 ],
 "metadata": {
  "kernelspec": {
   "display_name": "SageMath 10.4",
   "language": "sage",
   "name": "sagemath"
  },
  "language_info": {
   "codemirror_mode": {
    "name": "ipython",
    "version": 3
   },
   "file_extension": ".py",
   "mimetype": "text/x-python",
   "name": "sage",
   "nbconvert_exporter": "python",
   "pygments_lexer": "ipython3",
   "version": "3.11.10"
  }
 },
 "nbformat": 4,
 "nbformat_minor": 2
}
