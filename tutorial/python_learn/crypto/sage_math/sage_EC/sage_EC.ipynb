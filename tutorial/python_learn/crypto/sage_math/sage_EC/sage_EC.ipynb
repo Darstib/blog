{
 "cells": [
  {
   "cell_type": "markdown",
   "metadata": {},
   "source": [
    "# Elliptic Curves\n",
    "\n",
    "> https://doc.sagemath.org/html/en/tutorial/tour_advanced.html#elliptic-curves\n",
    "\n",
    "## get Elliptic Curve\n",
    "\n",
    "The command `EllipticCurve` for creating an elliptic curve has many forms:\n",
    "\n",
    "- EllipticCurve([a1, a2, a3, a4, a6]): Returns the elliptic curve: $y^2+a_1xy+a_3y=x^3+a_2x^2+a_4x+a_6$\n",
    "- EllipticCurve(R, [a4, a6]): Same as above, but a1=a2=a3=0 =>  $y^2=x^3+a_4x+a_6$ , which is known as Weierstrass form on the ring R."
   ]
  },
  {
   "cell_type": "code",
   "execution_count": 3,
   "metadata": {},
   "outputs": [
    {
     "data": {
      "text/plain": [
       "Elliptic Curve defined by y^2 = x^3 + 2*x + 3 over Finite Field of size 97"
      ]
     },
     "execution_count": 3,
     "metadata": {},
     "output_type": "execute_result"
    }
   ],
   "source": [
    "p, a, b = 97, 2, 3\n",
    "E = EllipticCurve(GF(p), [a, b])\n",
    "E"
   ]
  },
  {
   "cell_type": "markdown",
   "metadata": {},
   "source": [
    "## add node on curve"
   ]
  },
  {
   "cell_type": "code",
   "execution_count": null,
   "metadata": {},
   "outputs": [
    {
     "data": {
      "text/plain": [
       "((3 : 6 : 1), (3, 6))"
      ]
     },
     "execution_count": 4,
     "metadata": {},
     "output_type": "execute_result"
    }
   ],
   "source": [
    "(3, 6)# (3 : 6 : 1) # n 齐次坐标表示法 https://devv.ai/search?threadId=e30z23yx28e8"
   ]
  },
  {
   "cell_type": "code",
   "execution_count": null,
   "metadata": {},
   "outputs": [
    {
     "data": {
      "text/plain": [
       "(3 : 6 : 1)"
      ]
     },
     "execution_count": 5,
     "metadata": {},
     "output_type": "execute_result"
    }
   ],
   "source": [
    "# 也可以依据横坐标取一个点（y为正）\n",
    "E.lift_x(3)"
   ]
  },
  {
   "cell_type": "code",
   "execution_count": 4,
   "metadata": {},
   "outputs": [
    {
     "name": "stdout",
     "output_type": "stream",
     "text": [
      "1 (3 : 6 : 1)\n",
      "2 (80 : 10 : 1)\n",
      "3 (80 : 87 : 1)\n",
      "4 (3 : 91 : 1)\n",
      "5 (0 : 1 : 0)\n",
      "6 (3 : 6 : 1)\n",
      "7 (80 : 10 : 1)\n",
      "8 (80 : 87 : 1)\n",
      "9 (3 : 91 : 1)\n"
     ]
    }
   ],
   "source": [
    "for i in range(1, 10):\n",
    "    print(i, i * P)"
   ]
  },
  {
   "cell_type": "code",
   "execution_count": null,
   "metadata": {},
   "outputs": [
    {
     "data": {
      "text/plain": [
       "((56 : 8 : 1), ((86 : 28 : 1), (10 : 76 : 1)))"
      ]
     },
     "execution_count": 7,
     "metadata": {},
     "output_type": "execute_result"
    }
   ],
   "source": [
    "E.random_point(), E.gens() # 生成一组生成元"
   ]
  },
  {
   "cell_type": "markdown",
   "metadata": {},
   "source": [
    "## other\n",
    "\n",
    "- `E.order()` 获得 E 椭圆曲线阶\n",
    "- `Q.log(P)` 获得 Q 在 P 下的离散对数，即求解 Q = n*P"
   ]
  }
 ],
 "metadata": {
  "kernelspec": {
   "display_name": "SageMath 10.4",
   "language": "sage",
   "name": "sagemath"
  },
  "language_info": {
   "codemirror_mode": {
    "name": "ipython",
    "version": 3
   },
   "file_extension": ".py",
   "mimetype": "text/x-python",
   "name": "sage",
   "nbconvert_exporter": "python",
   "pygments_lexer": "ipython3",
   "version": "3.9.19"
  }
 },
 "nbformat": 4,
 "nbformat_minor": 2
}
