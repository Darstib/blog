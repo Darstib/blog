{
 "cells": [
  {
   "cell_type": "markdown",
   "metadata": {},
   "source": [
    "# DL 离散对数\n",
    "\n",
    "> https://ctf-wiki.org/crypto/asymmetric/discrete-log/discrete-log/#_2\n",
    "\n",
    "DLP 指的是**离散对数问题**（Discrete Logarithm Problem）。它是一个数学问题，描述了在给定的群体中，找到一个整数 k，使得 $b^k≡a\\pmod p$ 成立，其中 b 是群体中的一个生成元，a 是群体中的另一个元素，p 是一个素数。\n"
   ]
  },
  {
   "cell_type": "markdown",
   "metadata": {},
   "source": [
    "> 参数说明：求解以`base`为底，`a`的对数；`ord`为`base`的阶，可以缺省；`operation`可以是`+`与`*`，默认为`*`；`bounds`是一个区间`(ld,ud)`，需要保证所计算的对数在此区间内。\n",
    "\n",
    "即：$base^k≡a\\pmod p$"
   ]
  },
  {
   "cell_type": "code",
   "execution_count": 26,
   "metadata": {},
   "outputs": [
    {
     "name": "stdout",
     "output_type": "stream",
     "text": [
      "g: 3\n"
     ]
    },
    {
     "data": {
      "text/plain": [
       "(4, 4, 13)"
      ]
     },
     "execution_count": 26,
     "metadata": {},
     "output_type": "execute_result"
    }
   ],
   "source": [
    "p = 17\n",
    "F = GF(p)\n",
    "g = F.multiplicative_generator()\n",
    "print(\"g:\", g)\n",
    "c = 13\n",
    "# g^x = c mod p\n",
    "discrete_log(c, g), discrete_log(mod(c,p), mod(g,p)), 3^4%17"
   ]
  },
  {
   "cell_type": "markdown",
   "metadata": {},
   "source": [
    "\n",
    "- `k = discrete_log(a,base,ord,operation)` or `k = discrete_log(mod(a, p), mod(base, p))` or `y = Zmod(p)(a); k = y.log(base,p)`\n",
    "  - 通用的求离散对数的方法。\n",
    "- `discrete_log_rho(a,base,ord,operation)`\n",
    "  - 求离散对数的Pollard-Rho算法。\n",
    "- `discrete_log_lambda(a,base,bounds,operation)`\n",
    "  - 求离散对数的Pollard-kangaroo算法（也称为lambda算法）。\n",
    "- `bsgs(base,a,bounds,operation)`\n",
    "  - 小步大步法。\n",
    "\n",
    "> [practice](https://harry0597.com/2022/05/11/%E7%A6%BB%E6%95%A3%C2%B7DH%C2%B7Elgamal/)"
   ]
  },
  {
   "cell_type": "code",
   "execution_count": 20,
   "metadata": {},
   "outputs": [
    {
     "data": {
      "text/plain": [
       "(4, 4, 2*log(2)/log(3))"
      ]
     },
     "execution_count": 20,
     "metadata": {},
     "output_type": "execute_result"
    }
   ],
   "source": [
    "p = 7\n",
    "F = GF(p)\n",
    "a = 4\n",
    "g = F.multiplicative_generator()\n",
    "# 求解 g^x = a mod p\n",
    "x = discrete_log(a, g)\n",
    "discrete_log(mod(a, p), mod(g, p)), discrete_log(a, g), a.log(g)"
   ]
  },
  {
   "cell_type": "code",
   "execution_count": 40,
   "metadata": {},
   "outputs": [
    {
     "data": {
      "text/plain": [
       "(2^2 * 3 * 5 * 7 * 31 * 41, (2, 3, 5, 7, 31, 41), (2, 1, 1, 1, 1, 1))"
      ]
     },
     "execution_count": 40,
     "metadata": {},
     "output_type": "execute_result"
    }
   ],
   "source": [
    "n = 2*2*3*5*7*31*41\n",
    "factors , exps = zip(*factor(n))\n",
    "factor(n), factors, exps"
   ]
  },
  {
   "cell_type": "markdown",
   "metadata": {},
   "source": [
    "## Pohlig_Hellman\n",
    "\n",
    "如果群的阶数（即群元素个数）可被因式分解（称为光滑的），则可使用Pohlig-Hellman算法求解，其复杂度被降到了最大的那个因数上；由于最后使用中国剩余定理求解离散对数问题，在部分情况下，可以舍弃最后一两个极大的数，尝试缩短攻击时间。"
   ]
  },
  {
   "cell_type": "code",
   "execution_count": null,
   "metadata": {},
   "outputs": [],
   "source": [
    "def Pohlig_Hellman_DLP(g, a, p):\n",
    "    # Get the order of multiplicative group\n",
    "    order = p - 1\n",
    "    # Factor the order\n",
    "    factors, exponents = zip(*factor(order))\n",
    "    # Calculate prime powers\n",
    "    primes = [factors[i] ^ exponents[i] for i in range(len(factors))]\n",
    "    dlogs = []\n",
    "    \n",
    "    print(f\"Group order: {order}\")\n",
    "    print(f\"Prime factors: {factors}\")\n",
    "    print(f\"Prime powers: {primes}\")\n",
    "    \n",
    "    for fac in primes:\n",
    "        # Calculate t = order/fac\n",
    "        t = int(order // fac)\n",
    "        # Calculate subgroup elements\n",
    "        gt = power_mod(g, t, p)\n",
    "        at = power_mod(a, t, p)\n",
    "        # Solve DLP in subgroup\n",
    "        dlog = discrete_log(at, gt, p)\n",
    "        dlogs.append(dlog)\n",
    "        print(f\"factor: {fac}, Discrete Log: {dlog}\")\n",
    "    \n",
    "    # Use Chinese Remainder Theorem to get final result\n",
    "    return crt(dlogs, primes)"
   ]
  }
 ],
 "metadata": {
  "kernelspec": {
   "display_name": "SageMath 9.3",
   "language": "sage",
   "name": "sagemath"
  },
  "language_info": {
   "codemirror_mode": {
    "name": "ipython",
    "version": 3
   },
   "file_extension": ".py",
   "mimetype": "text/x-python",
   "name": "sage",
   "nbconvert_exporter": "python",
   "pygments_lexer": "ipython3",
   "version": "3.8.15"
  }
 },
 "nbformat": 4,
 "nbformat_minor": 2
}
