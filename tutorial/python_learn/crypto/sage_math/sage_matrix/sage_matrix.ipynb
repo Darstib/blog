{
 "cells": [
  {
   "cell_type": "markdown",
   "metadata": {},
   "source": [
    "# Matrix\n",
    "\n",
    "## vector\n",
    "\n",
    "`vector(<list>)`"
   ]
  },
  {
   "cell_type": "code",
   "execution_count": 2,
   "metadata": {},
   "outputs": [
    {
     "data": {
      "text/plain": [
       "(0, 1, 2, 3, 4, 5, 6, 7)"
      ]
     },
     "execution_count": 2,
     "metadata": {},
     "output_type": "execute_result"
    }
   ],
   "source": [
    "from sage.all import *\n",
    "v = vector(range(8))\n",
    "v"
   ]
  },
  {
   "cell_type": "code",
   "execution_count": 4,
   "metadata": {},
   "outputs": [
    {
     "data": {
      "text/plain": [
       "2*sqrt(35)"
      ]
     },
     "execution_count": 4,
     "metadata": {},
     "output_type": "execute_result"
    }
   ],
   "source": [
    "# v.norm(self, p=__two__): 范式\n",
    "v.norm()"
   ]
  },
  {
   "cell_type": "markdown",
   "metadata": {},
   "source": [
    "## Matrix\n",
    "\n",
    "> https://doc.sagemath.org/html/en/reference/matrices/sage/matrix/special.html"
   ]
  },
  {
   "cell_type": "code",
   "execution_count": 45,
   "metadata": {},
   "outputs": [
    {
     "data": {
      "text/plain": [
       "([0 1 2]\n",
       " [3 4 5],\n",
       " [1 2]\n",
       " [3 4],\n",
       " [9 1]\n",
       " [7 5],\n",
       " 2,\n",
       " 2,\n",
       " Full MatrixSpace of 2 by 2 dense matrices over Ring of integers modulo 11,\n",
       " Ring of integers modulo 11,\n",
       " (1, 2, 3, 4),\n",
       " 9)"
      ]
     },
     "execution_count": 45,
     "metadata": {},
     "output_type": "execute_result"
    }
   ],
   "source": [
    "# from one/two dimensional list of\n",
    "M_ = Matrix(2, range(6)) \n",
    "M = Matrix(Zmod(11), [[1, 2], [3, 4]])\n",
    "M_, M, ~M, M.nrows(), M.ncols(), M.parent(), M.base_ring(), vector(M), M.det()"
   ]
  },
  {
   "cell_type": "markdown",
   "metadata": {},
   "source": [
    "### special matrix"
   ]
  },
  {
   "cell_type": "code",
   "execution_count": 16,
   "metadata": {},
   "outputs": [
    {
     "data": {
      "text/plain": [
       "([   1    0|   1    2]\n",
       " [   0    1|   3    4]\n",
       " [---------+---------]\n",
       " [  -2    1|   0    0]\n",
       " [ 3/2 -1/2|   0    0],\n",
       " [   1    0|   1    2]\n",
       " [   0    1|   3    4]\n",
       " [---------+---------]\n",
       " [  -2    1|   0    0]\n",
       " [ 3/2 -1/2|   0    0],\n",
       " [   2    0|   1    2]\n",
       " [   0    2|   3    4]\n",
       " [---------+---------]\n",
       " [  -2    1|   x    0]\n",
       " [ 3/2 -1/2|   0    x])"
      ]
     },
     "execution_count": 16,
     "metadata": {},
     "output_type": "execute_result"
    }
   ],
   "source": [
    "# block matrix\n",
    "Ms = MatrixSpace(QQ, 2, 2)\n",
    "A = Ms([1, 2, 3, 4])\n",
    "B = ~A\n",
    "I = Ms.one()\n",
    "O = Ms.zero()\n",
    "x = polygen(ZZ)\n",
    "block_matrix([[I, A] , [B, O]]), block_matrix(2, 2, [I, A, B, O]), block_matrix(2, 2, [2, A, B, x])"
   ]
  },
  {
   "cell_type": "code",
   "execution_count": 17,
   "metadata": {},
   "outputs": [
    {
     "data": {
      "text/plain": [
       "[   1    2|   0    0]\n",
       "[   3    4|   0    0]\n",
       "[---------+---------]\n",
       "[   0    0|  -2    1]\n",
       "[   0    0| 3/2 -1/2]"
      ]
     },
     "execution_count": 17,
     "metadata": {},
     "output_type": "execute_result"
    }
   ],
   "source": [
    "# block_diagonal_matrix(A, B) == block_matrix([[A, O], [O, B]])\n",
    "block_diagonal_matrix(A, B)"
   ]
  },
  {
   "cell_type": "markdown",
   "metadata": {},
   "source": [
    "`elementary_matrix(R, n, row1=i, row2=j)`\n",
    "\n",
    "The matrix which swaps rows i and j.\n",
    "\n",
    "`elementary_matrix(R, n, row1=i, scale=s)`\n",
    "\n",
    "The matrix which multiplies row i by s.\n",
    "\n",
    "`elementary_matrix(R, n, row1=i, row2=j, scale=s)`\n",
    "\n",
    "The matrix which multiplies row j by s and adds it to row i."
   ]
  },
  {
   "cell_type": "code",
   "execution_count": 18,
   "metadata": {},
   "outputs": [
    {
     "data": {
      "text/plain": [
       "[ 0  1  2  3  4  5  6  7  8  9]\n",
       "[10 11 12 13 14 15 16 17 18 19]\n",
       "[20 21 22 23 24 25 26 27 28 29]\n",
       "[30 31 32 33 34 35 36 37 38 39]"
      ]
     },
     "execution_count": 18,
     "metadata": {},
     "output_type": "execute_result"
    }
   ],
   "source": [
    "A = matrix(ZZ, 4, 10, range(40)); A"
   ]
  },
  {
   "cell_type": "code",
   "execution_count": 29,
   "metadata": {},
   "outputs": [
    {
     "data": {
      "text/plain": [
       "([1 0 0 0]\n",
       " [0 1 0 2]\n",
       " [0 0 1 0]\n",
       " [0 0 0 1],\n",
       " [ 0  1  2  3  4  5  6  7  8  9]\n",
       " [70 73 76 79 82 85 88 91 94 97]\n",
       " [20 21 22 23 24 25 26 27 28 29]\n",
       " [30 31 32 33 34 35 36 37 38 39])"
      ]
     },
     "execution_count": 29,
     "metadata": {},
     "output_type": "execute_result"
    }
   ],
   "source": [
    "E = elementary_matrix(4, row1=1, row2=3, scale=Integer(2))\n",
    "E, E * A # 左乘行变换"
   ]
  },
  {
   "cell_type": "code",
   "execution_count": null,
   "metadata": {},
   "outputs": [
    {
     "data": {
      "text/plain": [
       "([1 1 1]\n",
       " [1 1 1],\n",
       " [0 0 0]\n",
       " [0 0 0])"
      ]
     },
     "execution_count": 43,
     "metadata": {},
     "output_type": "execute_result"
    }
   ],
   "source": [
    "    # ones() / ones_matrix()\n",
    "# zero() / zero_matrix()\n",
    "ones_matrix(2, 3), zero_matrix(2, 3)"
   ]
  },
  {
   "cell_type": "markdown",
   "metadata": {},
   "source": [
    "## Matrix space\n",
    "\n",
    "> https://doc.sagemath.org/html/en/reference/matrices/sage/matrix/matrix_space.html\n",
    "\n",
    "### 创建矩阵空间"
   ]
  },
  {
   "cell_type": "code",
   "execution_count": 2,
   "metadata": {},
   "outputs": [
    {
     "name": "stderr",
     "output_type": "stream",
     "text": [
      "/tmp/ipykernel_28247/3499655851.py:7: DeprecationWarning: the function is_MatrixSpace is deprecated; use 'isinstance(..., MatrixSpace)' instead\n",
      "See https://github.com/sagemath/sage/issues/37924 for details.\n",
      "  Ms, Ms.is_dense(), Ms.is_finite(), Ms.is_sparse(), MsT, MsC, is_MatrixSpace(MsT)\n"
     ]
    },
    {
     "data": {
      "text/plain": [
       "(Full MatrixSpace of 3 by 3 sparse matrices over Ring of integers modulo 65537,\n",
       " False,\n",
       " True,\n",
       " True,\n",
       " Full MatrixSpace of 3 by 3 sparse matrices over Ring of integers modulo 65537,\n",
       " Full MatrixSpace of 3 by 3 sparse matrices over Ring of integers modulo 65537,\n",
       " True)"
      ]
     },
     "execution_count": 2,
     "metadata": {},
     "output_type": "execute_result"
    }
   ],
   "source": [
    "from sage.all import *\n",
    "from sage.matrix.matrix_space import is_MatrixSpace\n",
    "# MatrixSpace(base_ring, nrows, ncols, sparse, implementation)\n",
    "Ms = MatrixSpace(Zmod(0x10001), 3, 3, sparse=True)\n",
    "MsT = Ms.transposed\n",
    "MsC = copy(Ms)\n",
    "Ms, Ms.is_dense(), Ms.is_finite(), Ms.is_sparse(), MsT, MsC, is_MatrixSpace(MsT)"
   ]
  },
  {
   "cell_type": "markdown",
   "metadata": {},
   "source": [
    "### 创建矩阵"
   ]
  },
  {
   "cell_type": "code",
   "execution_count": 42,
   "metadata": {},
   "outputs": [
    {
     "data": {
      "text/plain": [
       "([0 1]\n",
       " [2 3],\n",
       " [0 1]\n",
       " [2 3],\n",
       " [0 0]\n",
       " [0 1],\n",
       " [1 0]\n",
       " [0 1],\n",
       " [0 0]\n",
       " [0 0])"
      ]
     },
     "execution_count": 42,
     "metadata": {},
     "output_type": "execute_result"
    }
   ],
   "source": [
    "# diagonal_matrix(<vector>) # matrix space must be a square\n",
    "# one() / identity_matrix() # matrix space must be a square\n",
    "# zero() / zero_matrix() # matrix space must be a square\n",
    "Ms.matrix(range(Ms.dimension())), Ms.from_vector(vector(range(Ms.dimension()))), Ms.diagonal_matrix(range(Ms.ncols())), Ms.one(), Ms.zero()"
   ]
  },
  {
   "cell_type": "code",
   "execution_count": null,
   "metadata": {},
   "outputs": [
    {
     "data": {
      "text/plain": [
       "Full MatrixSpace of 4 by 3 dense matrices over Ring of integers modulo 65537"
      ]
     },
     "execution_count": 46,
     "metadata": {},
     "output_type": "execute_result"
    }
   ],
   "source": [
    "# matrix_space(nrows=None, ncols=None, sparse=False)[source]\n",
    "Ms.matrix_space(4, 3) # 在原矩阵空间基础上小修小改"
   ]
  },
  {
   "cell_type": "markdown",
   "metadata": {},
   "source": [
    "### 属性"
   ]
  },
  {
   "cell_type": "code",
   "execution_count": 49,
   "metadata": {},
   "outputs": [
    {
     "data": {
      "text/plain": [
       "(3,\n",
       " 3,\n",
       " (3, 3),\n",
       " 9,\n",
       " Ring of integers modulo 65537,\n",
       " Full MatrixSpace of 3 by 3 sparse matrices over Ring of integers modulo 257,\n",
       " 65537,\n",
       " 9)"
      ]
     },
     "execution_count": 49,
     "metadata": {},
     "output_type": "execute_result"
    }
   ],
   "source": [
    "# 形状，维度，基环，基，特征\n",
    "Ms.nrows(), Ms.ncols(), Ms.dims(), Ms.dimension(), Ms.base_ring(), Ms.change_ring(Zmod(0x101)), Ms.characteristic(), Ms.ngens()"
   ]
  },
  {
   "cell_type": "code",
   "execution_count": 53,
   "metadata": {},
   "outputs": [
    {
     "data": {
      "text/plain": [
       "(sage.sets.family.FiniteFamily,\n",
       " [1 0 0]\n",
       " [0 0 0]\n",
       " [0 0 0],\n",
       " sage.matrix.matrix_generic_sparse.Matrix_generic_sparse)"
      ]
     },
     "execution_count": 53,
     "metadata": {},
     "output_type": "execute_result"
    }
   ],
   "source": [
    "A = Ms.basis()\n",
    "B = list(A) # list of basis of Ms\n",
    "for i in range(Ms.dimension()):\n",
    "    assert B[i] == Ms.gen(i)\n",
    "assert Ms.ngens() == Ms.dimension() # 前者是生成元个数，后者是维度，但是二者在数值上相同\n",
    "type(A), B[0], type(B[0])"
   ]
  },
  {
   "cell_type": "markdown",
   "metadata": {},
   "source": [
    "### 操作"
   ]
  },
  {
   "cell_type": "code",
   "execution_count": 51,
   "metadata": {},
   "outputs": [
    {
     "data": {
      "text/plain": [
       "(Full MatrixSpace of 3 by 3 sparse matrices over Rational Field,\n",
       " [1 0 0]\n",
       " [0 1 0]\n",
       " [0 0 1],\n",
       " [0 0 0]\n",
       " [0 0 0]\n",
       " [0 0 0])"
      ]
     },
     "execution_count": 51,
     "metadata": {},
     "output_type": "execute_result"
    }
   ],
   "source": [
    "# 变环\n",
    "\n",
    "Ms.change_ring(QQ), Ms.one(), Ms.zero()"
   ]
  },
  {
   "cell_type": "code",
   "execution_count": 46,
   "metadata": {},
   "outputs": [
    {
     "data": {
      "text/plain": [
       "(-2, 1, 0)"
      ]
     },
     "execution_count": 46,
     "metadata": {},
     "output_type": "execute_result"
    }
   ],
   "source": [
    "A = matrix([[1,2,3],[3,2,1],[1,1,1]]) \n",
    "B = vector([0,-4,-1]) \n",
    "A.solve_right(B)\n",
    "\n",
    "# 有教程说可以用 A\\B 来求解，但是 `the backslash operator has been deprecated See https://github.com/sagemath/sage/issues/36394 for details.`"
   ]
  }
 ],
 "metadata": {
  "kernelspec": {
   "display_name": "sage",
   "language": "python",
   "name": "python3"
  },
  "language_info": {
   "codemirror_mode": {
    "name": "ipython",
    "version": 3
   },
   "file_extension": ".py",
   "mimetype": "text/x-python",
   "name": "python",
   "nbconvert_exporter": "python",
   "pygments_lexer": "ipython3",
   "version": "3.11.10"
  }
 },
 "nbformat": 4,
 "nbformat_minor": 2
}
