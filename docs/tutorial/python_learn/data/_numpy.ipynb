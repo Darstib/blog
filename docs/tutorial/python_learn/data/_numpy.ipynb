{
 "cells": [
  {
   "cell_type": "markdown",
   "metadata": {},
   "source": [
    "# Numpy\n",
    "\n",
    "numpy 本身可能实用性较低，但是我们学的其他处理数据处理的库大都基于 numpy ，所以 numpy 是基础。"
   ]
  },
  {
   "cell_type": "code",
   "execution_count": 1,
   "metadata": {},
   "outputs": [],
   "source": [
    "import numpy as np\n",
    "np.random.seed(0) # 设置随机种子，使得每次运行得到的随机数都一样"
   ]
  },
  {
   "cell_type": "markdown",
   "metadata": {},
   "source": [
    "## 创建"
   ]
  },
  {
   "cell_type": "code",
   "execution_count": 2,
   "metadata": {},
   "outputs": [
    {
     "data": {
      "text/plain": [
       "(array([1, 2, 3]),\n",
       " array([[1, 2],\n",
       "        [3, 4]]),\n",
       " array([0., 0., 0.]),\n",
       " array([[b'1', b'1', b'1'],\n",
       "        [b'1', b'1', b'1']], dtype='|S2'),\n",
       " array([[3.14, 3.14],\n",
       "        [3.14, 3.14]]),\n",
       " array([[4.65103707e-310, 0.00000000e+000],\n",
       "        [6.89842179e-310, 6.89839832e-310],\n",
       "        [6.89839832e-310, 6.89842143e-310]]),\n",
       " array([[ 0,  2],\n",
       "        [ 4,  6],\n",
       "        [ 8, 10]]),\n",
       " array([ 1.  ,  3.25,  5.5 ,  7.75, 10.  ]),\n",
       " array([ 1.,  2.,  4.,  8., 16., 32.]),\n",
       " array([[5, 0],\n",
       "        [3, 3],\n",
       "        [7, 9]]),\n",
       " array([[0.6235637 , 0.38438171, 0.29753461],\n",
       "        [0.05671298, 0.27265629, 0.47766512]]),\n",
       " array([[-0.08767307,  1.36687937,  1.1253141 ]]),\n",
       " array([[1., 0., 0.],\n",
       "        [0., 1., 0.],\n",
       "        [0., 0., 1.]]),\n",
       " array([[1, 0, 0, 0],\n",
       "        [0, 2, 0, 0],\n",
       "        [0, 0, 3, 0],\n",
       "        [0, 0, 0, 4]]),\n",
       " array([[1, 1, 1],\n",
       "        [1, 2, 2],\n",
       "        [2, 2, 3],\n",
       "        [3, 3, 3]]),\n",
       " array([0, 1, 2, 3, 4, 5]))"
      ]
     },
     "execution_count": 2,
     "metadata": {},
     "output_type": "execute_result"
    }
   ],
   "source": [
    "# 列表（copy 表示复制还是引用，subok 表示是否保留子数据类型），元组，全 0, 全 1，指定填充，全空（随机小值），等差数列（步长），等差数列（个数），等比数列，随机整数，[0，1)均匀分布， 正态分布，单位矩阵，对角矩阵，重复元素（axis 表示重复的方向），迭代对象\n",
    "np.array([1,2,3], copy=False, subok=False), np.array((1, 2, 3, 4)).reshape(2, 2), np.zeros(3), np.ones((2, 3), dtype=\"S2\"), np.full((2, 2), 3.14), np.empty((3, 2)), np.arange(0, 11, 2).reshape(3,2), np.linspace(1, 10, 5), np.logspace(0, 5, num=6, endpoint=True, base=2.0), np.random.randint(low=0, high=10, size=(3, 2)), np.random.random(size=(2, 3)), np.random.normal(size=(1, 3)), np.eye(N=3, k=0), np.diag([1, 2, 3, 4]), np.repeat([1, 2, 3], 4, axis=0).reshape(4, 3), np.fromiter(iter(range(10)), dtype=int, count=6)"
   ]
  },
  {
   "cell_type": "code",
   "execution_count": 3,
   "metadata": {},
   "outputs": [
    {
     "data": {
      "text/plain": [
       "(array([[0, 0, 0],\n",
       "        [0, 0, 0]]),\n",
       " array([[1, 1, 1],\n",
       "        [1, 1, 1]]),\n",
       " array([[3, 3, 3],\n",
       "        [3, 3, 3]]),\n",
       " array([[139625615228192, 139625615228192, 139625610902768],\n",
       "        [139625594252048, 139625569475632, 139625612388752]]))"
      ]
     },
     "execution_count": 3,
     "metadata": {},
     "output_type": "execute_result"
    }
   ],
   "source": [
    "## like 生成已有 ndarray 同形状的 ndarray\n",
    "np.zeros_like([[1,2,3], [4,5,6]]), np.ones_like([[1,2,3], [4,5,6]]), np.full_like([[1,2,3], [4,5,6]], 3.14), np.empty_like([[1,2,3], [4,5,6]])"
   ]
  },
  {
   "cell_type": "markdown",
   "metadata": {},
   "source": [
    "## 属性"
   ]
  },
  {
   "cell_type": "code",
   "execution_count": 4,
   "metadata": {},
   "outputs": [
    {
     "data": {
      "text/plain": [
       "(2,\n",
       " (2, 3),\n",
       " 6,\n",
       " dtype('int64'),\n",
       " 8,\n",
       " 48,\n",
       " (24, 8),\n",
       " None,\n",
       "   C_CONTIGUOUS : True\n",
       "   F_CONTIGUOUS : False\n",
       "   OWNDATA : True\n",
       "   WRITEABLE : True\n",
       "   ALIGNED : True\n",
       "   WRITEBACKIFCOPY : False)"
      ]
     },
     "execution_count": 4,
     "metadata": {},
     "output_type": "execute_result"
    }
   ],
   "source": [
    "A = np.array([[1,2,3], [4,5,6]])\n",
    "# 维度，形状，元素个数，元素类型，每个元素占用的字节数，总字节数，步长，基础对象（见后），标志\n",
    "A.ndim, A.shape, A.size, A.dtype, A.itemsize, A.nbytes, A.strides, A.base, A.flags"
   ]
  },
  {
   "cell_type": "code",
   "execution_count": 5,
   "metadata": {},
   "outputs": [
    {
     "data": {
      "text/plain": [
       "(None,\n",
       " None,\n",
       " array([[1, 2, 3],\n",
       "        [4, 5, 6]]),\n",
       " array([[1, 2, 3],\n",
       "        [4, 5, 6]]),\n",
       " array([[1, 2, 3],\n",
       "        [4, 5, 6]]),\n",
       " None,\n",
       " array([[1, 2, 3],\n",
       "        [4, 5, 6]]),\n",
       " None,\n",
       " None)"
      ]
     },
     "execution_count": 5,
     "metadata": {},
     "output_type": "execute_result"
    }
   ],
   "source": [
    "# 操作，base 如果为空则表示自己是基础对象，否则表示自己是一个视图；分别对应复制和引用操作\n",
    "B = np.array([[1,2,3],[4,5,6]])\n",
    "B_array = np.array([1,2,3,4,5,6])\n",
    "B1 = B.copy() # 复制\n",
    "B2 = B.view() # 视图（引用）\n",
    "B3 = B.reshape((3,2)) # 重塑（引用）\n",
    "B4 = B.T # 转置（引用）\n",
    "B5 = B.flatten() # 拉平（复制）\n",
    "B6 = B.ravel() # 拉平（引用，但是当B内存上不连续时也是复制）\n",
    "B7 = B.astype(np.float64) # 转换类型（复制）\n",
    "B8 = B # 引用\n",
    "B9 = B.tolist() # 转换为列表（不再是ndarray，理应算复制）\n",
    "B.base, B1.base, B2.base, B3.base, B4.base, B5.base, B6.base, B7.base, B8.base"
   ]
  },
  {
   "cell_type": "code",
   "execution_count": 6,
   "metadata": {},
   "outputs": [
    {
     "data": {
      "text/plain": [
       "(array([[3, 3, 3, 3],\n",
       "        [3, 3, 3, 3],\n",
       "        [3, 3, 3, 3]]),\n",
       " array([[ 8,  9, 10, 11],\n",
       "        [ 4,  5,  6,  7],\n",
       "        [ 0,  1,  2,  3]]),\n",
       " array([3, 3, 3, 3, 3, 3, 3, 3, 3, 3, 3, 3]),\n",
       " array([ 8,  9, 10, 11,  4,  5,  6,  7,  0,  1,  2,  3]))"
      ]
     },
     "execution_count": 6,
     "metadata": {},
     "output_type": "execute_result"
    }
   ],
   "source": [
    "# 操作，直接作用在 ndarray 上\n",
    "Bfill = np.arange(12).reshape(3, 4)\n",
    "Bshuffle = np.arange(12).reshape(3, 4)\n",
    "Bfill.fill(3.14) # 会被强制转换为原数据类型\n",
    "np.random.shuffle(Bshuffle) # 打乱顺序\n",
    "Bfill, Bshuffle, Bfill.base, Bshuffle.base"
   ]
  },
  {
   "cell_type": "markdown",
   "metadata": {},
   "source": [
    "## 操作"
   ]
  },
  {
   "cell_type": "code",
   "execution_count": 7,
   "metadata": {},
   "outputs": [
    {
     "name": "stdout",
     "output_type": "stream",
     "text": [
      "1 1 2 2 3 3 4 4 5 5 6 6 1 7 2 8 3 9 4 10 5 11 6 12 \n",
      "1 1 2 2 3 3 4 4 5 5 6 6 "
     ]
    }
   ],
   "source": [
    "# nditer 顺序遍历所有元素\n",
    "C = np.array([[[1,2,3],[4,5,6]], [[7,8,9],[10,11,12]]])\n",
    "for i,j in np.nditer([B, C]): # nditer 迭代器，可以利用广播机制同时迭代多个数组\n",
    "    print(i,j, end=\" \")\n",
    "print()\n",
    "for i, j in zip(B.flat, C.flat): # flatiter 迭代器，使用zip达成的效果一般\n",
    "    print(i,j, end=\" \")"
   ]
  },
  {
   "cell_type": "code",
   "execution_count": 8,
   "metadata": {},
   "outputs": [
    {
     "data": {
      "text/plain": [
       "(None, dtype('int64'))"
      ]
     },
     "execution_count": 8,
     "metadata": {},
     "output_type": "execute_result"
    }
   ],
   "source": [
    "# savetext 保存到文件\n",
    "D1 = np.random.randint(0, 10, (3, 4))\n",
    "np.savetxt('dataBase/D.txt', D1, delimiter=\",\"), D1.dtype"
   ]
  },
  {
   "cell_type": "code",
   "execution_count": 9,
   "metadata": {},
   "outputs": [],
   "source": [
    "# loadtext 从文件读取\n",
    "D2 = np.loadtxt('dataBase/D.txt', delimiter=',')"
   ]
  },
  {
   "cell_type": "code",
   "execution_count": 10,
   "metadata": {},
   "outputs": [
    {
     "data": {
      "text/plain": [
       "(array([[1, 2, 3, 1, 2, 3],\n",
       "        [4, 5, 6, 4, 5, 6]]),\n",
       " array([[1, 2, 3],\n",
       "        [4, 5, 6],\n",
       "        [1, 2, 3],\n",
       "        [4, 5, 6]]))"
      ]
     },
     "execution_count": 10,
     "metadata": {},
     "output_type": "execute_result"
    }
   ],
   "source": [
    "# 水平/垂直拼接（图像拼接比较方便）\n",
    "np.hstack([B1, B2]), np.vstack([B1, B2])"
   ]
  }
 ],
 "metadata": {
  "kernelspec": {
   "display_name": "data",
   "language": "python",
   "name": "python3"
  },
  "language_info": {
   "codemirror_mode": {
    "name": "ipython",
    "version": 3
   },
   "file_extension": ".py",
   "mimetype": "text/x-python",
   "name": "python",
   "nbconvert_exporter": "python",
   "pygments_lexer": "ipython3",
   "version": "3.9.18"
  }
 },
 "nbformat": 4,
 "nbformat_minor": 2
}
