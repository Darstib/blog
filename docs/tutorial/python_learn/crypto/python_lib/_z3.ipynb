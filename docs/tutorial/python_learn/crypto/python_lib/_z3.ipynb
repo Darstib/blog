{
 "cells": [
  {
   "cell_type": "markdown",
   "metadata": {},
   "source": [
    "# Z3\n",
    "\n",
    "> [官网](https://github.com/Z3Prover/z3/)\n",
    ">\n",
    "> - [Z3 API in Python](https://ericpony.github.io/z3py-tutorial/guide-examples.htm)\n",
    "> - [namespacez3py](https://z3prover.github.io/api/html/namespacez3py.html)\n",
    "> - [使用z3-solver破解随机数](https://cn-sec.com/archives/1705899.html)\n",
    "> - [programmingz3](https://theory.stanford.edu/~nikolaj/programmingz3.html)"
   ]
  }
 ],
 "metadata": {
  "language_info": {
   "name": "python"
  }
 },
 "nbformat": 4,
 "nbformat_minor": 2
}
