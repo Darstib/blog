{
 "cells": [
  {
   "cell_type": "markdown",
   "metadata": {},
   "source": [
    "# Continued fractions （连分数）\n",
    "\n",
    "> [连分数理论](https://ch3mtr4ils.cn/2022/12/12/%E5%AF%86%E7%A0%81%E5%AD%A6%E7%9A%84%E6%95%B0%E5%AD%A6%E5%9F%BA%E7%A1%80%EF%BC%88%E4%B8%80%EF%BC%89/#%E8%BF%9E%E5%88%86%E6%95%B0%E7%90%86%E8%AE%BA)\n",
    ">\n",
    "> [Continued fractions - Diophantine approximation (sagemath.org)](https://doc.sagemath.org/html/en/reference/diophantine_approximation/sage/rings/continued_fraction.html)\n",
    "\n",
    "在 python / sage math 中，连分数的表示方式如下：\n",
    "\n",
    "$[a_0;a_1,a_2,\\ldots]=a_0+\\frac1{[a_1;a_2,\\ldots]}=a_0+\\frac1{a_1+\\frac1{a_2+\\frac1{\\ldots}}}$"
   ]
  },
  {
   "cell_type": "code",
   "execution_count": 7,
   "metadata": {
    "vscode": {
     "languageId": "sage"
    }
   },
   "outputs": [
    {
     "data": {
      "text/plain": [
       "(13/27, <class 'sage.rings.rational.Rational'>)"
      ]
     },
     "execution_count": 7,
     "metadata": {},
     "output_type": "execute_result"
    }
   ],
   "source": [
    "# 创建一个正常的分数 normal fraction\n",
    "nf = Rational(13/27)\n",
    "nf, type(nf)"
   ]
  },
  {
   "cell_type": "code",
   "execution_count": 6,
   "metadata": {
    "vscode": {
     "languageId": "sage"
    }
   },
   "outputs": [
    {
     "data": {
      "text/plain": [
       "([0; 2, 13],\n",
       " <class 'sage.rings.continued_fraction.ContinuedFraction_periodic'>)"
      ]
     },
     "execution_count": 6,
     "metadata": {},
     "output_type": "execute_result"
    }
   ],
   "source": [
    "cf = nf.continued_fraction()\n",
    "cf, type(cf)"
   ]
  },
  {
   "cell_type": "markdown",
   "metadata": {},
   "source": [
    "cf 还有很多属性和方法，构建方法也有很多，按下不表，记住 `cf.value()` 即可。"
   ]
  },
  {
   "cell_type": "code",
   "execution_count": 10,
   "metadata": {
    "vscode": {
     "languageId": "sage"
    }
   },
   "outputs": [
    {
     "data": {
      "text/plain": [
       "([0, 2, 13], 13/27, (), (0, 2, 13))"
      ]
     },
     "execution_count": 10,
     "metadata": {},
     "output_type": "execute_result"
    }
   ],
   "source": [
    "cf.quotients(), cf.value(), cf.period(), cf.preperiod()"
   ]
  }
 ],
 "metadata": {
  "kernelspec": {
   "display_name": "SageMath 10.4",
   "language": "sage",
   "name": "sagemath"
  },
  "language_info": {
   "codemirror_mode": {
    "name": "ipython",
    "version": 3
   },
   "file_extension": ".py",
   "mimetype": "text/x-python",
   "name": "python",
   "nbconvert_exporter": "python",
   "pygments_lexer": "ipython3",
   "version": "3.11.10"
  }
 },
 "nbformat": 4,
 "nbformat_minor": 2
}
