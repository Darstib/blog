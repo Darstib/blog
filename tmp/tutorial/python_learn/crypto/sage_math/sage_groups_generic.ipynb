{
 "cells": [
  {
   "cell_type": "markdown",
   "metadata": {},
   "source": [
    "# Miscellaneous generic functions\n",
    "\n",
    "> https://doc.sagemath.org/html/en/reference/groups/sage/groups/generic.html"
   ]
  },
  {
   "cell_type": "code",
   "execution_count": 1,
   "metadata": {},
   "outputs": [],
   "source": [
    "from sage.groups.generic import *  # some generic group functions (like bsgs) need to be imported explicitly"
   ]
  },
  {
   "cell_type": "markdown",
   "metadata": {},
   "source": [
    "\n",
    "## DLP 离散对数问题\n",
    "\n",
    "> https://ctf-wiki.org/crypto/asymmetric/discrete-log/\n",
    "\n",
    "DLP 指的是**离散对数问题**（Discrete Logarithm Problem）。它是一个数学问题，描述了在给定的群体中，找到一个整数 k，使得 $b^k≡a\\pmod p$ 成立，其中 b 是群体中的一个生成元，a 是群体中的另一个元素，p 是一个素数。\n",
    "\n",
    "> 基本参数说明：求解以`base`为底，`a`的对数；`ord`为`base`的阶，可以缺省；`operation`可以是`+`与`*`，默认为`*`；`bounds`是一个区间`(ld,ud)`，需要保证所计算的对数在此区间内。\n",
    "\n",
    "即：$base^k≡a\\pmod p$\n",
    "\n",
    "### sage 求解\n",
    "\n",
    "- `k = discrete_log(a, base, ord=None, bounds=None, operation='*', identity=None, inverse=None, op=None, algothrim='bsgs')`\n",
    "  - 可以看到，`discrete_log` 可以选择使用 `bsgs` `rho` `lambda` 算法，默认为 `bsgs` 算法。\n",
    "  - 其他使用方式 `k = discrete_log(mod(a, p), mod(base, p))`\n",
    "  - 等价名：`discrete_log_generic`\n",
    "\n",
    "或者我们可以用以下的方式来指定求解离散对数使用的算法：\n",
    "\n",
    "- `bsgs(base, a, bounds, operation='*')`\n",
    "  - 小步大步法。\n",
    "- `discrete_log_lambda(a, base, bounds, operation='*')`\n",
    "  - 求离散对数的 Pollard-kangaroo 算法（也称为lambda算法）。\n",
    "  - It uses only a logarithmic amount of memory. It’s useful if you **have bounds on the logarithm**. If you are computing logarithms in a whole finite group, you should use Pollard Rho algorithm.\n",
    "- `discrete_log_rho(a, base, ord=None, operation='*')`\n",
    "  - 求离散对数的 Pollard-Rho 算法。\n",
    "  - Pollard Rho algorithm for computing discrete logarithm in **cyclic group of prime order**. If the group order is very small it falls back to the baby step giant step algorithm.\n",
    "\n",
    "### 使用 log\n",
    "\n",
    "使用 `help(discrete_log)` 我们会看到其中有这么一句话：\n",
    "\n",
    "```manual\n",
    ".. WARNING::\n",
    "\n",
    "   If ``x`` has a ``log`` method, it is likely to be vastly faster\n",
    "   than using this function.  E.g., if ``x`` is an integer modulo\n",
    "   `n`, use its ``log`` method instead!\n",
    "```\n",
    "\n",
    "那么实现了 log 的对象有哪些呢？\n",
    "\n",
    "- Finite Fields\n",
    "- Elliptic Curves\n",
    "- ..."
   ]
  },
  {
   "cell_type": "code",
   "execution_count": 2,
   "metadata": {},
   "outputs": [
    {
     "name": "stdout",
     "output_type": "stream",
     "text": [
      "g: 3\n"
     ]
    },
    {
     "data": {
      "text/plain": [
       "(10086, 10086, 10086)"
      ]
     },
     "execution_count": 2,
     "metadata": {},
     "output_type": "execute_result"
    }
   ],
   "source": [
    "p = 0x10001\n",
    "F = GF(p)\n",
    "g = F.primitive_element() # 原根\n",
    "# g = F.multiplicative_generator() # 乘法生成元\n",
    "print(\"g:\", g)\n",
    "x = 10086\n",
    "# g^x = c mod p\n",
    "c = g**x\n",
    "discrete_log(c, g), discrete_log(mod(c,p), mod(g,p)), c.log(g) # the last use method is talked below"
   ]
  },
  {
   "cell_type": "code",
   "execution_count": 3,
   "metadata": {},
   "outputs": [],
   "source": [
    "def Pohlig_Hellman_DLP(g, a, p):\n",
    "    \"\"\" Pohlig-Hellman algorithm for solving DLP in a cyclic group of prime order.\"\"\"\n",
    "    # Get the order of multiplicative group\n",
    "    order = p - 1\n",
    "    # Factor the order\n",
    "    factors, exponents = zip(*factor(order))\n",
    "    # Calculate prime powers\n",
    "    primes = [factors[i] ^ exponents[i] for i in range(len(factors))]\n",
    "    dlogs = []\n",
    "    \n",
    "    print(f\"Group order: {order}\")\n",
    "    print(f\"Prime factors: {factors}\")\n",
    "    print(f\"Prime powers: {primes}\")\n",
    "    \n",
    "    for fac in primes:\n",
    "        # Calculate t = order/fac\n",
    "        t = int(order // fac)\n",
    "        # Calculate subgroup elements\n",
    "        gt = power_mod(g, t, p)\n",
    "        at = power_mod(a, t, p)\n",
    "        # Solve DLP in subgroup\n",
    "        dlog = discrete_log(at, gt, p)\n",
    "        dlogs.append(dlog)\n",
    "        print(f\"factor: {fac}, Discrete Log: {dlog}\")\n",
    "    \n",
    "    # Use Chinese Remainder Theorem to get final result\n",
    "    return crt(dlogs, primes)"
   ]
  },
  {
   "cell_type": "code",
   "execution_count": 4,
   "metadata": {},
   "outputs": [
    {
     "name": "stdout",
     "output_type": "stream",
     "text": [
      "2^2 * 3 * 5 * 7 * 31 * 41 | (2, 3, 5, 7, 31, 41) | (2, 1, 1, 1, 1, 1)\n"
     ]
    }
   ],
   "source": [
    "n = 2*2*3*5*7*31*41\n",
    "factors , exps = zip(*factor(n))\n",
    "print(factor(n), factors, exps, sep=' | ')"
   ]
  },
  {
   "cell_type": "markdown",
   "metadata": {},
   "source": [
    "### Pohlig_Hellman\n",
    "\n",
    "如果群的阶数（即群元素个数）可被因式分解（称为光滑的），则可使用Pohlig-Hellman算法求解，其复杂度被降到了最大的那个因数上；由于最后使用中国剩余定理求解离散对数问题，在部分情况下，可以舍弃最后一两个极大的数，尝试缩短攻击时间。"
   ]
  },
  {
   "cell_type": "code",
   "execution_count": null,
   "metadata": {},
   "outputs": [],
   "source": [
    "def FF_Pohlig_Hellman(g, a, p):\n",
    "    \"\"\" Pohlig-Hellman algorithm for solving DLP in a Finite field group of prime order.\"\"\"\n",
    "    # Get the order of multiplicative group\n",
    "    order = p - 1\n",
    "    # Factor the order\n",
    "    factors = list(factor(E.order()))[:-1] # remove the last some factor to be faster\n",
    "    primes = [i**j for i,j in factors]\n",
    "    dlogs = []\n",
    "\n",
    "    print(f\"Group order: {order}\")\n",
    "    print(f\"Prime factors: {factors}\")\n",
    "    print(f\"Prime powers: {primes}\")\n",
    "    \n",
    "    for fac in primes:\n",
    "        # Calculate t = order/fac\n",
    "        t = int(order // fac)\n",
    "        # Calculate subgroup elements\n",
    "        gt = power_mod(g, t, p)\n",
    "        at = power_mod(a, t, p)\n",
    "        # Solve DLP in subgroup\n",
    "        dlog = discrete_log(at, gt, p)\n",
    "        dlogs.append(dlog)\n",
    "        print(f\"factor: {fac}, Discrete Log: {dlog}\")\n",
    "\n",
    "    return crt(dlogs, primes)"
   ]
  },
  {
   "cell_type": "markdown",
   "metadata": {},
   "source": [
    "## Other\n",
    "\n",
    "- `linear_ralation(P, Q, operation='+')`\n",
    "    - Function which solves the equation `a*P=m*Q` or `P^a=Q^m`.\n",
    "    - [example](https://doc.sagemath.org/html/en/reference/groups/sage/groups/generic.html#sage.groups.generic.linear_relation)\n",
    "- `order_from_bounds(P, bounds<tuple>, d=None, operation='+')`\n",
    "- `structure_description(G, latex=False)` Return a string that tries to describe the structure of G."
   ]
  }
 ],
 "metadata": {
  "kernelspec": {
   "display_name": "SageMath 10.4",
   "language": "sage",
   "name": "sagemath"
  },
  "language_info": {
   "codemirror_mode": {
    "name": "ipython",
    "version": 3
   },
   "file_extension": ".py",
   "mimetype": "text/x-python",
   "name": "sage",
   "nbconvert_exporter": "python",
   "pygments_lexer": "ipython3",
   "version": "3.11.10"
  }
 },
 "nbformat": 4,
 "nbformat_minor": 2
}
