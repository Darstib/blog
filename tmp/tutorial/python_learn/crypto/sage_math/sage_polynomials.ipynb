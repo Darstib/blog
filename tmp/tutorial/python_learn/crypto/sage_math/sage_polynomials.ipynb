{
 "cells": [
  {
   "cell_type": "markdown",
   "metadata": {},
   "source": [
    "# Polynomials\n",
    "\n",
    "## Univariate Polynomials\n",
    "\n"
   ]
  },
  {
   "cell_type": "code",
   "execution_count": 73,
   "metadata": {
    "vscode": {
     "languageId": "sage"
    }
   },
   "outputs": [
    {
     "data": {
      "text/plain": [
       "True"
      ]
     },
     "execution_count": 73,
     "metadata": {},
     "output_type": "execute_result"
    }
   ],
   "source": [
    "R1 = PolynomialRing(QQ, 'r')\n",
    "R2 = QQ['r']\n",
    "R1 == R2\n",
    "# 这只是表示打印时使用'r'，但此时不能够使用 'r' 作为变量名\n",
    "# f = r ** 2 - 1 # NameError: name 'r' is not defined\n",
    "# f, f.roots(), f.parent()"
   ]
  },
  {
   "cell_type": "code",
   "execution_count": 74,
   "metadata": {
    "vscode": {
     "languageId": "sage"
    }
   },
   "outputs": [
    {
     "data": {
      "text/plain": [
       "(False,\n",
       " r1,\n",
       " r2,\n",
       " r3,\n",
       " r1,\n",
       " (Univariate Polynomial Ring in r1 over Rational Field, r1))"
      ]
     },
     "execution_count": 74,
     "metadata": {},
     "output_type": "execute_result"
    }
   ],
   "source": [
    "# 下面三行定义了 r1/r2/r3 变量，可以直接使用\n",
    "R1.<r1> = PolynomialRing(QQ)\n",
    "R2.<r2> = QQ['r2']\n",
    "R3.<r3> = QQ[]\n",
    "f1, f2, f3 = r1 ** 2 - 1, r2 ** 2 - 1, r3 ** 2 - 1\n",
    "R2 == R3, R1.0, R2.0, R3.0, R1.gen(), R1.objgen()\n",
    "# 只能够在 sagemath 中使用，python 使用如下"
   ]
  },
  {
   "cell_type": "code",
   "execution_count": 75,
   "metadata": {
    "vscode": {
     "languageId": "sage"
    }
   },
   "outputs": [
    {
     "data": {
      "text/plain": [
       "False"
      ]
     },
     "execution_count": 75,
     "metadata": {},
     "output_type": "execute_result"
    }
   ],
   "source": [
    "from sage.all import *\n",
    "S1 = PolynomialRing(QQ, 's1'); s1 = S1.gen(0) # 对于单变量多项式环，可以省略 0\n",
    "S2 = QQ['s2']; s2 = S2.gen(0)\n",
    "S3, s3 = QQ['s3'].objgen()\n",
    "g2 = s2 ** 2 + s2 + 1\n",
    "S1 == S2"
   ]
  },
  {
   "cell_type": "code",
   "execution_count": 76,
   "metadata": {
    "vscode": {
     "languageId": "sage"
    }
   },
   "outputs": [
    {
     "data": {
      "text/plain": [
       "(r1^2 - 1,\n",
       " [(1, 1), (-1, 1)],\n",
       " (r1 - 1) * (r1 + 1),\n",
       " Univariate Polynomial Ring in r1 over Rational Field,\n",
       " True,\n",
       " False)"
      ]
     },
     "execution_count": 76,
     "metadata": {},
     "output_type": "execute_result"
    }
   ],
   "source": [
    "# 随后就可创建多项式了\n",
    "poly = (r1 - 1) * (r1 + 1)\n",
    "poly, poly.roots(), poly.factor(), poly.parent(), poly in R1, poly in R2"
   ]
  },
  {
   "cell_type": "code",
   "execution_count": 77,
   "metadata": {
    "vscode": {
     "languageId": "sage"
    }
   },
   "outputs": [
    {
     "data": {
      "text/plain": [
       "('1, [(2, 1), (x - 3, 1), (x - 2, 1), (x - 1, 2)]',\n",
       " 'roots:[(3, 1), (2, 1), (1, 2)]')"
      ]
     },
     "execution_count": 77,
     "metadata": {},
     "output_type": "execute_result"
    }
   ],
   "source": [
    "# 常用来解多项式方程\n",
    "X, x = ZZ['x'].objgen()\n",
    "f = 2 * (x - 1) ** 2 * (x - 2) * (x - 3)\n",
    "fac = f.factor()\n",
    "f\"{fac.unit()}, {list(fac)}\", f\"roots:{f.roots()}\" # 返回一个元组列表，元组为（根，重数）"
   ]
  },
  {
   "cell_type": "code",
   "execution_count": 80,
   "metadata": {
    "vscode": {
     "languageId": "sage"
    }
   },
   "outputs": [
    {
     "data": {
      "text/plain": [
       "(2*(x^4 - 7*x^3 + 17*x^2 - 17*x + 6)/((x - 1)*(x - 2)*(x - 3)),\n",
       " Symbolic Ring,\n",
       " (x - 1)*(x - 2)*(x - 3))"
      ]
     },
     "execution_count": 80,
     "metadata": {},
     "output_type": "execute_result"
    }
   ],
   "source": [
    "g = (x - 1) * (x - 2) * (x - 3)\n",
    "h = f/g\n",
    "h, h.parent(), gcd(f, g)# h.roots() # AttributeError: 'sage.rings.fraction_field_element.FractionFieldElement' object has no attribute 'roots'"
   ]
  },
  {
   "cell_type": "code",
   "execution_count": 92,
   "metadata": {
    "vscode": {
     "languageId": "sage"
    }
   },
   "outputs": [
    {
     "data": {
      "text/plain": [
       "(x^4 + x^2, x^2 * (x + 1)^2, [(0, 2), (1, 2)])"
      ]
     },
     "execution_count": 92,
     "metadata": {},
     "output_type": "execute_result"
    }
   ],
   "source": [
    "# 在密码学中常用 GF() 有限域；或者说 Zmod n 有限域\n",
    "p = 2\n",
    "n = 3\n",
    "F, x = GF(p**n)['x'].objgen() # 或者直接 x = GF(p**n)['x'].gen()\n",
    "f = (x - 6) * (x - 7) * (x - 8) * (x - 9) # = x^4 - 30*x^3 + 335*x^2 - 1650*x + 3024\n",
    "f, f.factor(), f.roots()"
   ]
  },
  {
   "cell_type": "code",
   "execution_count": null,
   "metadata": {
    "vscode": {
     "languageId": "sage"
    }
   },
   "outputs": [
    {
     "data": {
      "text/plain": [
       "[4]"
      ]
     },
     "execution_count": 108,
     "metadata": {},
     "output_type": "execute_result"
    }
   ],
   "source": [
    "# 寻找小根，使用 coppersmith & LLL 算法\n",
    "N = 10001\n",
    "K = Zmod(10001)\n",
    "P.<x> = PolynomialRing(K, implementation='NTL')\n",
    "f = x^3 + 10*x^2 + 5000*x - 222\n",
    "f.small_roots() # 返回最小的根"
   ]
  },
  {
   "cell_type": "code",
   "execution_count": 2,
   "metadata": {
    "vscode": {
     "languageId": "sage"
    }
   },
   "outputs": [
    {
     "data": {
      "text/plain": [
       "[(1, 1), (3, 2)]"
      ]
     },
     "execution_count": 2,
     "metadata": {},
     "output_type": "execute_result"
    }
   ],
   "source": [
    "# 发现新的创建多项式生成元的写法\n",
    "x = polygen(GF(7))\n",
    "f = (x**3 + x - 2).monic()\n",
    "f.roots()"
   ]
  },
  {
   "cell_type": "markdown",
   "metadata": {},
   "source": [
    "## Multivariate Polynomials\n",
    "\n",
    "多元多项式的创建与单元多项式基本一致，只是需要指定变量的个数。"
   ]
  },
  {
   "cell_type": "code",
   "execution_count": 71,
   "metadata": {
    "vscode": {
     "languageId": "sage"
    }
   },
   "outputs": [
    {
     "data": {
      "text/plain": [
       "((a0, a1, a2), (a, b, c), (ab0, ab1, ab2))"
      ]
     },
     "execution_count": 71,
     "metadata": {},
     "output_type": "execute_result"
    }
   ],
   "source": [
    "# 在 sage / python 中可以\n",
    "R = PolynomialRing(GF(2), 3, 'a')\n",
    "S = PolynomialRing(GF(2), 3, 'abc') # 这样只能够创建单字母变量，字母数与变量数要相同\n",
    "T= PolynomialRing(GF(2), 3, 'ab')# 否则会当作一整个变量名\n",
    "R.gens(), S.gens(), T.gens()"
   ]
  },
  {
   "cell_type": "code",
   "execution_count": null,
   "metadata": {
    "vscode": {
     "languageId": "sage"
    }
   },
   "outputs": [],
   "source": [
    "\n",
    "# 或者在 sage 中\n",
    "F.<r1, r2, r3> = GF(2)[]\n",
    "assert (r1, r2, r3) == F.gens()\n"
   ]
  },
  {
   "cell_type": "code",
   "execution_count": 66,
   "metadata": {
    "vscode": {
     "languageId": "sage"
    }
   },
   "outputs": [],
   "source": [
    "\n",
    "# 在 python 中只能\n",
    "G, s = GF(7)['s0, s1, s2'].objgens()\n",
    "assert s == G.gens() == (s[0], s[1], s[2]) # == (s0, s1, s2) # NameError: name 'S0' is not defined"
   ]
  },
  {
   "cell_type": "markdown",
   "metadata": {},
   "source": [
    "## Normal polynomials solver"
   ]
  },
  {
   "cell_type": "code",
   "execution_count": 88,
   "metadata": {
    "vscode": {
     "languageId": "sage"
    }
   },
   "outputs": [
    {
     "data": {
      "text/plain": [
       "([(-sqrt(-y^2 - z^2 + 1), 1), (sqrt(-y^2 - z^2 + 1), 1)],\n",
       " [[x == r21, y == r22, z == sqrt(-r21^2 - r22^2 + 1)], [x == r23, y == r24, z == -sqrt(-r23^2 - r24^2 + 1)]])"
      ]
     },
     "execution_count": 88,
     "metadata": {},
     "output_type": "execute_result"
    }
   ],
   "source": [
    "var('x y z')  # Declare symbolic variables\n",
    "poly = x^2 + y^2 + z^2 - 1\n",
    "poly.roots(), solve(poly, x, y, z)"
   ]
  }
 ],
 "metadata": {
  "kernelspec": {
   "display_name": "SageMath 10.4",
   "language": "sage",
   "name": "sagemath"
  },
  "language_info": {
   "codemirror_mode": {
    "name": "ipython",
    "version": 3
   },
   "file_extension": ".py",
   "mimetype": "text/x-python",
   "name": "python",
   "nbconvert_exporter": "python",
   "pygments_lexer": "ipython3",
   "version": "3.11.10"
  }
 },
 "nbformat": 4,
 "nbformat_minor": 2
}
